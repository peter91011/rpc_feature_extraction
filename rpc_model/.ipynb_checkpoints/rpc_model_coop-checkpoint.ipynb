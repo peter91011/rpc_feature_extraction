{
 "cells": [
  {
   "cell_type": "code",
   "execution_count": 16,
   "metadata": {},
   "outputs": [],
   "source": [
    "import time\n",
    "\n",
    "import numpy as np\n",
    "import pandas as pd\n",
    "import matplotlib.pyplot as plt\n",
    "import datetime\n",
    "from itertools import chain\n",
    "import os\n",
    "import tqdm\n",
    "import glob\n",
    "import json"
   ]
  },
  {
   "cell_type": "code",
   "execution_count": 4,
   "metadata": {},
   "outputs": [],
   "source": [
    "import pandas as pd\n",
    "import os"
   ]
  },
  {
   "cell_type": "code",
   "execution_count": 7,
   "metadata": {},
   "outputs": [
    {
     "data": {
      "text/plain": [
       "'/home/mds_backfill'"
      ]
     },
     "execution_count": 7,
     "metadata": {},
     "output_type": "execute_result"
    }
   ],
   "source": [
    "os.getcwd()"
   ]
  },
  {
   "cell_type": "code",
   "execution_count": 8,
   "metadata": {},
   "outputs": [],
   "source": [
    "df = pd.read_csv('rpc_feature_extraction/rpc_model/sample_data_full_feat1w/df_feat_all_coop_item_'+'2022-11-20'+'.csv')"
   ]
  },
  {
   "cell_type": "code",
   "execution_count": 9,
   "metadata": {},
   "outputs": [],
   "source": [
    "df = df.iloc[df.isnull().sum(1).sort_values(ascending=True).index]"
   ]
  },
  {
   "cell_type": "code",
   "execution_count": 10,
   "metadata": {},
   "outputs": [],
   "source": [
    "df = df.head(500000)"
   ]
  },
  {
   "cell_type": "code",
   "execution_count": 11,
   "metadata": {},
   "outputs": [],
   "source": [
    "for i in [k for k in df.columns if '_l' in k]:\n",
    "    df[i] = df[i].fillna(0)"
   ]
  },
  {
   "cell_type": "code",
   "execution_count": 17,
   "metadata": {},
   "outputs": [],
   "source": [
    "with open('rpc_feature_extraction/rpc_model/yp_config_new.json') as json_file:\n",
    "    config = json.load(json_file)\n",
    "adid_name = config[\"hash_id\"][\"adid\"]\n",
    "is_mobile_name = config[\"hash_id\"][\"is_mobile\"]\n",
    "source_id_name = config[\"hash_id\"][\"source_id\"]"
   ]
  },
  {
   "cell_type": "code",
   "execution_count": 20,
   "metadata": {},
   "outputs": [],
   "source": [
    "def convert_numeric(df, features):\n",
    "    for feat in features:\n",
    "        if feat in df.columns:\n",
    "            df[feat] = df[feat].apply(lambda x: pd.to_numeric(x, errors='coerce'))\n",
    "    return df\n",
    "features = config[\"features\"]\n",
    "features_set = ['uber_curr_item_price_w1', 'uber_avg_overall_rating_w1'] #hard coded for hot fix\n",
    "# for f in features.values():\n",
    "#     features_set += f\n",
    "# features_set = list(set(features_set))\n",
    "df = convert_numeric(df, features_set)"
   ]
  },
  {
   "cell_type": "code",
   "execution_count": 22,
   "metadata": {},
   "outputs": [],
   "source": [
    "df_to_predict = df\n",
    "targets = ['seller', 'brand']"
   ]
  },
  {
   "cell_type": "code",
   "execution_count": 32,
   "metadata": {},
   "outputs": [
    {
     "name": "stdout",
     "output_type": "stream",
     "text": [
      "0\n",
      "1\n",
      "2\n",
      "3\n",
      "4\n",
      "0\n",
      "1\n",
      "2\n",
      "3\n",
      "4\n"
     ]
    }
   ],
   "source": [
    "import lightgbm as lgb\n",
    "def score(df, feature_cols, model_name):\n",
    "    local_file = f'rpc_feature_extraction/rpc_model/train_output_path/202301312358/{model_name}.txt'\n",
    "    try:\n",
    "        model = lgb.Booster(model_file=local_file)\n",
    "    except:\n",
    "        raise RuntimeError(f'{local_file} does not exist...')\n",
    "    return model.predict(df[feature_cols])\n",
    "\n",
    "for tar in targets:\n",
    "    for fold in range(5):\n",
    "        print(fold)\n",
    "        # convrt model\n",
    "        model_features = features['convrt'][tar]\n",
    "        model_name = f'convrt_f{fold}_'+tar\n",
    "        y_convrt_pred = score(df_to_predict, model_features, model_name)\n",
    "         # kfold ensemble\n",
    "        if fold == 0:\n",
    "            y_convrt = y_convrt_pred\n",
    "        else:\n",
    "            y_convrt += y_convrt_pred\n",
    "        # ordersize model\n",
    "        model_features = features['ordersize'][tar]\n",
    "        model_name = f'ordersize_f{fold}_'+tar\n",
    "        y_ordersize_pred = score(df_to_predict, model_features, model_name)\n",
    "        # kfold ensemble\n",
    "        if fold == 0:\n",
    "            y_ordersize = y_ordersize_pred\n",
    "        else:\n",
    "            y_ordersize += y_ordersize_pred\n",
    "    y_convrt /= 5\n",
    "    df_to_predict['pred_convrt_'+tar] = y_convrt\n",
    "    y_ordersize /= 5\n",
    "    df_to_predict['pred_ordersize_'+tar] = y_ordersize\n",
    "    df_to_predict['pred_rpc_'+tar] = df_to_predict['pred_convrt_'+tar] * df_to_predict['pred_ordersize_'+tar]"
   ]
  },
  {
   "cell_type": "code",
   "execution_count": 30,
   "metadata": {},
   "outputs": [
    {
     "data": {
      "text/plain": [
       "2.5194789245353553"
      ]
     },
     "execution_count": 30,
     "metadata": {},
     "output_type": "execute_result"
    }
   ],
   "source": [
    "def wmae(y, y_pred, weights):\n",
    "    error = np.abs(y - y_pred)*weights\n",
    "    return np.sum(error)/np.sum(weights)\n",
    "def wrmse(y, y_pred, weights):\n",
    "    error = np.power(y - y_pred, 2)*weights\n",
    "    return np.sqrt(np.sum(error)/np.sum(weights))\n",
    "target_col = 'sem_rpc_brand_l'\n",
    "pred_col = 'pred_rpc_brand'\n",
    "weight_col = 'sem_clicks_l'\n",
    "filter_NoNA = df[target_col].notnull() & df[pred_col].notnull() & df[weight_col].notnull()\n",
    "wmae(df[target_col].loc[filter_NoNA].values, df[pred_col].loc[filter_NoNA].values, df[weight_col].loc[filter_NoNA].values)"
   ]
  },
  {
   "cell_type": "code",
   "execution_count": 31,
   "metadata": {},
   "outputs": [
    {
     "data": {
      "text/plain": [
       "7.0503731266423895"
      ]
     },
     "execution_count": 31,
     "metadata": {},
     "output_type": "execute_result"
    }
   ],
   "source": [
    "target_col = 'sem_rpc_seller_l'\n",
    "pred_col = 'pred_rpc_seller'\n",
    "weight_col = 'sem_clicks_l'\n",
    "filter_NoNA = df[target_col].notnull() & df[pred_col].notnull() & df[weight_col].notnull()\n",
    "wmae(df[target_col].loc[filter_NoNA].values, df[pred_col].loc[filter_NoNA].values, df[weight_col].loc[filter_NoNA].values)"
   ]
  },
  {
   "cell_type": "code",
   "execution_count": null,
   "metadata": {},
   "outputs": [],
   "source": []
  },
  {
   "cell_type": "code",
   "execution_count": 33,
   "metadata": {},
   "outputs": [
    {
     "data": {
      "text/plain": [
       "2.8217575874599694"
      ]
     },
     "execution_count": 33,
     "metadata": {},
     "output_type": "execute_result"
    }
   ],
   "source": [
    "def wmae(y, y_pred, weights):\n",
    "    error = np.abs(y - y_pred)*weights\n",
    "    return np.sum(error)/np.sum(weights)\n",
    "def wrmse(y, y_pred, weights):\n",
    "    error = np.power(y - y_pred, 2)*weights\n",
    "    return np.sqrt(np.sum(error)/np.sum(weights))\n",
    "target_col = 'sem_rpc_brand_l'\n",
    "pred_col = 'pred_rpc_brand'\n",
    "weight_col = 'sem_clicks_l'\n",
    "filter_NoNA = df[target_col].notnull() & df[pred_col].notnull() & df[weight_col].notnull()\n",
    "wmae(df[target_col].loc[filter_NoNA].values, df[pred_col].loc[filter_NoNA].values, df[weight_col].loc[filter_NoNA].values)"
   ]
  },
  {
   "cell_type": "code",
   "execution_count": 34,
   "metadata": {},
   "outputs": [
    {
     "data": {
      "text/plain": [
       "7.357854750873495"
      ]
     },
     "execution_count": 34,
     "metadata": {},
     "output_type": "execute_result"
    }
   ],
   "source": [
    "target_col = 'sem_rpc_seller_l'\n",
    "pred_col = 'pred_rpc_seller'\n",
    "weight_col = 'sem_clicks_l'\n",
    "filter_NoNA = df[target_col].notnull() & df[pred_col].notnull() & df[weight_col].notnull()\n",
    "wmae(df[target_col].loc[filter_NoNA].values, df[pred_col].loc[filter_NoNA].values, df[weight_col].loc[filter_NoNA].values)"
   ]
  },
  {
   "cell_type": "code",
   "execution_count": null,
   "metadata": {},
   "outputs": [],
   "source": []
  },
  {
   "cell_type": "code",
   "execution_count": null,
   "metadata": {},
   "outputs": [],
   "source": []
  },
  {
   "cell_type": "code",
   "execution_count": null,
   "metadata": {},
   "outputs": [],
   "source": []
  },
  {
   "cell_type": "code",
   "execution_count": 3,
   "metadata": {},
   "outputs": [],
   "source": [
    "bb = pd.read_csv('rpc_feature_extraction/rpc_model/output/202301310457_train/oof_evaluation_brand.csv')"
   ]
  },
  {
   "cell_type": "code",
   "execution_count": 4,
   "metadata": {},
   "outputs": [],
   "source": [
    "ss = bb[bb['pred_rpc_brand'].isnull()==False]"
   ]
  },
  {
   "cell_type": "code",
   "execution_count": 5,
   "metadata": {},
   "outputs": [],
   "source": [
    "def wmae(y, y_pred, weights):\n",
    "    error = np.abs(y - y_pred)*weights\n",
    "    return np.sum(error)/np.sum(weights)\n",
    "def wrmse(y, y_pred, weights):\n",
    "    error = np.power(y - y_pred, 2)*weights\n",
    "    return np.sqrt(np.sum(error)/np.sum(weights))"
   ]
  },
  {
   "cell_type": "code",
   "execution_count": 6,
   "metadata": {},
   "outputs": [
    {
     "data": {
      "text/plain": [
       "1.2947931905939756"
      ]
     },
     "execution_count": 6,
     "metadata": {},
     "output_type": "execute_result"
    }
   ],
   "source": [
    "wmae(ss['sem_rpc_brand_l'], ss['pred_rpc_brand'], ss['sem_clicks_l'])"
   ]
  },
  {
   "cell_type": "code",
   "execution_count": 7,
   "metadata": {},
   "outputs": [
    {
     "name": "stderr",
     "output_type": "stream",
     "text": [
      "/opt/conda/anaconda/lib/python3.6/site-packages/ipykernel_launcher.py:1: SettingWithCopyWarning: \n",
      "A value is trying to be set on a copy of a slice from a DataFrame.\n",
      "Try using .loc[row_indexer,col_indexer] = value instead\n",
      "\n",
      "See the caveats in the documentation: http://pandas.pydata.org/pandas-docs/stable/user_guide/indexing.html#returning-a-view-versus-a-copy\n",
      "  \"\"\"Entry point for launching an IPython kernel.\n",
      "/opt/conda/anaconda/lib/python3.6/site-packages/ipykernel_launcher.py:2: SettingWithCopyWarning: \n",
      "A value is trying to be set on a copy of a slice from a DataFrame.\n",
      "Try using .loc[row_indexer,col_indexer] = value instead\n",
      "\n",
      "See the caveats in the documentation: http://pandas.pydata.org/pandas-docs/stable/user_guide/indexing.html#returning-a-view-versus-a-copy\n",
      "  \n",
      "/opt/conda/anaconda/lib/python3.6/site-packages/ipykernel_launcher.py:3: SettingWithCopyWarning: \n",
      "A value is trying to be set on a copy of a slice from a DataFrame.\n",
      "Try using .loc[row_indexer,col_indexer] = value instead\n",
      "\n",
      "See the caveats in the documentation: http://pandas.pydata.org/pandas-docs/stable/user_guide/indexing.html#returning-a-view-versus-a-copy\n",
      "  This is separate from the ipykernel package so we can avoid doing imports until\n",
      "/opt/conda/anaconda/lib/python3.6/site-packages/ipykernel_launcher.py:4: SettingWithCopyWarning: \n",
      "A value is trying to be set on a copy of a slice from a DataFrame.\n",
      "Try using .loc[row_indexer,col_indexer] = value instead\n",
      "\n",
      "See the caveats in the documentation: http://pandas.pydata.org/pandas-docs/stable/user_guide/indexing.html#returning-a-view-versus-a-copy\n",
      "  after removing the cwd from sys.path.\n",
      "/opt/conda/anaconda/lib/python3.6/site-packages/ipykernel_launcher.py:5: SettingWithCopyWarning: \n",
      "A value is trying to be set on a copy of a slice from a DataFrame.\n",
      "Try using .loc[row_indexer,col_indexer] = value instead\n",
      "\n",
      "See the caveats in the documentation: http://pandas.pydata.org/pandas-docs/stable/user_guide/indexing.html#returning-a-view-versus-a-copy\n",
      "  \"\"\"\n"
     ]
    }
   ],
   "source": [
    "ss['pred_rpc_brand0'] = ss['pred_rpc_brand'].map(lambda x:max(0,x))\n",
    "ss['error'] = abs(ss['pred_rpc_brand']-ss['sem_rpc_brand_l'])\n",
    "ss['error0'] = abs(ss['pred_rpc_brand0']-ss['sem_rpc_brand_l'])\n",
    "ss['errortweight'] = ss['error']*ss['sem_clicks_l']\n",
    "ss['error0tweight'] = ss['error0']*ss['sem_clicks_l']"
   ]
  },
  {
   "cell_type": "code",
   "execution_count": 28,
   "metadata": {},
   "outputs": [
    {
     "data": {
      "text/html": [
       "<div>\n",
       "<style scoped>\n",
       "    .dataframe tbody tr th:only-of-type {\n",
       "        vertical-align: middle;\n",
       "    }\n",
       "\n",
       "    .dataframe tbody tr th {\n",
       "        vertical-align: top;\n",
       "    }\n",
       "\n",
       "    .dataframe thead th {\n",
       "        text-align: right;\n",
       "    }\n",
       "</style>\n",
       "<table border=\"1\" class=\"dataframe\">\n",
       "  <thead>\n",
       "    <tr style=\"text-align: right;\">\n",
       "      <th></th>\n",
       "      <th>a</th>\n",
       "    </tr>\n",
       "  </thead>\n",
       "  <tbody>\n",
       "    <tr>\n",
       "      <th>0</th>\n",
       "      <td>1.0</td>\n",
       "    </tr>\n",
       "    <tr>\n",
       "      <th>1</th>\n",
       "      <td>-1.0</td>\n",
       "    </tr>\n",
       "    <tr>\n",
       "      <th>2</th>\n",
       "      <td>NaN</td>\n",
       "    </tr>\n",
       "  </tbody>\n",
       "</table>\n",
       "</div>"
      ],
      "text/plain": [
       "     a\n",
       "0  1.0\n",
       "1 -1.0\n",
       "2  NaN"
      ]
     },
     "execution_count": 28,
     "metadata": {},
     "output_type": "execute_result"
    }
   ],
   "source": [
    "qq = pd.DataFrame({'a':[1,-1,np.nan]})\n",
    "qq"
   ]
  },
  {
   "cell_type": "code",
   "execution_count": 31,
   "metadata": {},
   "outputs": [
    {
     "data": {
      "text/html": [
       "<div>\n",
       "<style scoped>\n",
       "    .dataframe tbody tr th:only-of-type {\n",
       "        vertical-align: middle;\n",
       "    }\n",
       "\n",
       "    .dataframe tbody tr th {\n",
       "        vertical-align: top;\n",
       "    }\n",
       "\n",
       "    .dataframe thead th {\n",
       "        text-align: right;\n",
       "    }\n",
       "</style>\n",
       "<table border=\"1\" class=\"dataframe\">\n",
       "  <thead>\n",
       "    <tr style=\"text-align: right;\">\n",
       "      <th></th>\n",
       "      <th>a</th>\n",
       "      <th>f</th>\n",
       "    </tr>\n",
       "  </thead>\n",
       "  <tbody>\n",
       "    <tr>\n",
       "      <th>0</th>\n",
       "      <td>1.0</td>\n",
       "      <td>1.0</td>\n",
       "    </tr>\n",
       "    <tr>\n",
       "      <th>1</th>\n",
       "      <td>-1.0</td>\n",
       "      <td>0.0</td>\n",
       "    </tr>\n",
       "    <tr>\n",
       "      <th>2</th>\n",
       "      <td>NaN</td>\n",
       "      <td>NaN</td>\n",
       "    </tr>\n",
       "  </tbody>\n",
       "</table>\n",
       "</div>"
      ],
      "text/plain": [
       "     a    f\n",
       "0  1.0  1.0\n",
       "1 -1.0  0.0\n",
       "2  NaN  NaN"
      ]
     },
     "execution_count": 31,
     "metadata": {},
     "output_type": "execute_result"
    }
   ],
   "source": [
    "qq"
   ]
  },
  {
   "cell_type": "code",
   "execution_count": 30,
   "metadata": {},
   "outputs": [],
   "source": [
    "qq['f'] = qq['a'].map(lambda x: max(0,x) if np.isnan(x)==False else x)"
   ]
  },
  {
   "cell_type": "code",
   "execution_count": 14,
   "metadata": {},
   "outputs": [
    {
     "data": {
      "text/plain": [
       "97842.30354226398"
      ]
     },
     "execution_count": 14,
     "metadata": {},
     "output_type": "execute_result"
    }
   ],
   "source": [
    "sum(ss['error0tweight'])"
   ]
  },
  {
   "cell_type": "code",
   "execution_count": 26,
   "metadata": {},
   "outputs": [
    {
     "data": {
      "text/plain": [
       "75903.9999999677"
      ]
     },
     "execution_count": 26,
     "metadata": {},
     "output_type": "execute_result"
    }
   ],
   "source": [
    "sum(ss['sem_clicks_l'])"
   ]
  },
  {
   "cell_type": "code",
   "execution_count": 19,
   "metadata": {},
   "outputs": [
    {
     "data": {
      "text/html": [
       "<div>\n",
       "<style scoped>\n",
       "    .dataframe tbody tr th:only-of-type {\n",
       "        vertical-align: middle;\n",
       "    }\n",
       "\n",
       "    .dataframe tbody tr th {\n",
       "        vertical-align: top;\n",
       "    }\n",
       "\n",
       "    .dataframe thead th {\n",
       "        text-align: right;\n",
       "    }\n",
       "</style>\n",
       "<table border=\"1\" class=\"dataframe\">\n",
       "  <thead>\n",
       "    <tr style=\"text-align: right;\">\n",
       "      <th></th>\n",
       "      <th>pred_convrt_brand</th>\n",
       "      <th>pred_avg_2w_convrt_brand</th>\n",
       "      <th>pred_rpc_brand</th>\n",
       "      <th>pred_avg_ordersize_brand</th>\n",
       "      <th>pred_ordersize_brand</th>\n",
       "      <th>pred_avg_2w_rpc_brand</th>\n",
       "      <th>sem_pred_rpc_dept_brand</th>\n",
       "      <th>sem_rpc_brand_l</th>\n",
       "      <th>sem_orders_brand_l</th>\n",
       "      <th>pred_avg_rpc_brand</th>\n",
       "      <th>...</th>\n",
       "      <th>pred_avg_2w_ordersize_brand</th>\n",
       "      <th>sem_clicks_l</th>\n",
       "      <th>sem_pred_ordersize_dept_brand</th>\n",
       "      <th>sem_convrt_brand_l</th>\n",
       "      <th>sem_pred_convrt_dept_brand</th>\n",
       "      <th>pred_rpc_new_brand</th>\n",
       "      <th>sem_ordersize_brand_l</th>\n",
       "      <th>pred_rpc_brand0</th>\n",
       "      <th>error</th>\n",
       "      <th>error0</th>\n",
       "    </tr>\n",
       "  </thead>\n",
       "  <tbody>\n",
       "  </tbody>\n",
       "</table>\n",
       "<p>0 rows × 21 columns</p>\n",
       "</div>"
      ],
      "text/plain": [
       "Empty DataFrame\n",
       "Columns: [pred_convrt_brand, pred_avg_2w_convrt_brand, pred_rpc_brand, pred_avg_ordersize_brand, pred_ordersize_brand, pred_avg_2w_rpc_brand, sem_pred_rpc_dept_brand, sem_rpc_brand_l, sem_orders_brand_l, pred_avg_rpc_brand, pred_avg_convrt_brand, pred_avg_2w_ordersize_brand, sem_clicks_l, sem_pred_ordersize_dept_brand, sem_convrt_brand_l, sem_pred_convrt_dept_brand, pred_rpc_new_brand, sem_ordersize_brand_l, pred_rpc_brand0, error, error0]\n",
       "Index: []\n",
       "\n",
       "[0 rows x 21 columns]"
      ]
     },
     "execution_count": 19,
     "metadata": {},
     "output_type": "execute_result"
    }
   ],
   "source": [
    "ss[ss['error0']>ss['error']]"
   ]
  },
  {
   "cell_type": "code",
   "execution_count": 18,
   "metadata": {},
   "outputs": [
    {
     "data": {
      "text/plain": [
       "True"
      ]
     },
     "execution_count": 18,
     "metadata": {},
     "output_type": "execute_result"
    }
   ],
   "source": [
    "wmae(ss['sem_rpc_brand_l'], ss['pred_rpc_brand'], ss['sem_clicks_l'])"
   ]
  },
  {
   "cell_type": "code",
   "execution_count": 10,
   "metadata": {},
   "outputs": [],
   "source": [
    "ff = ss.copy()\n",
    "ff['pred_rpc_brand'] = ff['pred_rpc_brand'].map(lambda x:max(0,x))"
   ]
  },
  {
   "cell_type": "code",
   "execution_count": 9,
   "metadata": {},
   "outputs": [
    {
     "data": {
      "text/plain": [
       "-0.10517029797303554"
      ]
     },
     "execution_count": 9,
     "metadata": {},
     "output_type": "execute_result"
    }
   ],
   "source": [
    "min(ss['pred_rpc_brand'])"
   ]
  },
  {
   "cell_type": "code",
   "execution_count": 11,
   "metadata": {},
   "outputs": [
    {
     "data": {
      "text/plain": [
       "1.4617661139481581"
      ]
     },
     "execution_count": 11,
     "metadata": {},
     "output_type": "execute_result"
    }
   ],
   "source": [
    "wmae(ff['sem_rpc_brand_l'], ff['pred_rpc_brand'], ff['sem_clicks_l'])"
   ]
  },
  {
   "cell_type": "code",
   "execution_count": 4,
   "metadata": {},
   "outputs": [
    {
     "name": "stderr",
     "output_type": "stream",
     "text": [
      "/opt/conda/anaconda/lib/python3.6/site-packages/IPython/core/interactiveshell.py:3072: DtypeWarning: Columns (251) have mixed types. Specify dtype option on import or set low_memory=False.\n",
      "  interactivity=interactivity, compiler=compiler, result=result)\n"
     ]
    }
   ],
   "source": [
    "df1120 = pd.read_csv('rpc_feature_extraction/rpc_model/sample_data_full_feat/df_feat_all_coop_item_'+'2022-11-20'+'.csv')"
   ]
  },
  {
   "cell_type": "code",
   "execution_count": 6,
   "metadata": {},
   "outputs": [],
   "source": [
    "df1120 = df1120.sort_values('sem_clicks_l',ascending=False)"
   ]
  },
  {
   "cell_type": "code",
   "execution_count": 7,
   "metadata": {},
   "outputs": [],
   "source": [
    "df1120.to_csv('rpc_feature_extraction/rpc_model/sample_data_full_feat/df_feat_all_coop_item_sort_'+'2022-11-20'+'.csv')"
   ]
  },
  {
   "cell_type": "code",
   "execution_count": 20,
   "metadata": {},
   "outputs": [],
   "source": [
    "for date in ['2022-11-20','2022-10-30','2022-11-06','2022-11-13']:\n",
    "    df1120 = pd.read_csv('rpc_feature_extraction/rpc_model/sample_data_full_feat/df_feat_all_coop_item_'+date+'.csv')\n",
    "    df1120 = df1120.sort_values('sem_clicks_w1',ascending=False)\n",
    "    df1120.to_csv('rpc_feature_extraction/rpc_model/sample_data_full_feat/df_feat_all_coop_item_sortw1_'+date+'.csv')"
   ]
  },
  {
   "cell_type": "code",
   "execution_count": 3,
   "metadata": {},
   "outputs": [
    {
     "data": {
      "text/plain": [
       "'/home/mds_backfill'"
      ]
     },
     "execution_count": 3,
     "metadata": {},
     "output_type": "execute_result"
    }
   ],
   "source": [
    "os.getcwd()"
   ]
  },
  {
   "cell_type": "code",
   "execution_count": 3,
   "metadata": {},
   "outputs": [],
   "source": [
    "bb = pd.read_csv('rpc_feature_extraction/rpc_model/output/202301301855_train_5fold/oof_evaluation_brand.csv')"
   ]
  },
  {
   "cell_type": "code",
   "execution_count": 19,
   "metadata": {},
   "outputs": [
    {
     "data": {
      "text/plain": [
       "['pred_convrt_brand',\n",
       " 'pred_avg_ordersize_brand',\n",
       " 'pred_avg_convrt_brand',\n",
       " 'sem_convrt_brand_l',\n",
       " 'pred_avg_2w_rpc_brand',\n",
       " 'pred_rpc_brand',\n",
       " 'sem_ordersize_brand_l',\n",
       " 'pred_avg_2w_convrt_brand',\n",
       " 'sem_rpc_brand_l',\n",
       " 'pred_ordersize_brand',\n",
       " 'sem_pred_ordersize_dept_brand',\n",
       " 'pred_avg_rpc_brand',\n",
       " 'sem_orders_brand_l',\n",
       " 'pred_rpc_new_brand',\n",
       " 'sem_clicks_l',\n",
       " 'sem_pred_convrt_dept_brand',\n",
       " 'sem_pred_rpc_dept_brand',\n",
       " 'pred_avg_2w_ordersize_brand']"
      ]
     },
     "execution_count": 19,
     "metadata": {},
     "output_type": "execute_result"
    }
   ],
   "source": [
    "bb.columns.tolist()"
   ]
  },
  {
   "cell_type": "code",
   "execution_count": 16,
   "metadata": {},
   "outputs": [
    {
     "data": {
      "text/plain": [
       "0.0"
      ]
     },
     "execution_count": 16,
     "metadata": {},
     "output_type": "execute_result"
    }
   ],
   "source": [
    "min(bb['sem_ordersize_brand_l'])"
   ]
  },
  {
   "cell_type": "code",
   "execution_count": null,
   "metadata": {},
   "outputs": [],
   "source": [
    "sem_clicks_w1,pred_rpc_brand"
   ]
  },
  {
   "cell_type": "code",
   "execution_count": 4,
   "metadata": {},
   "outputs": [],
   "source": [
    "import seaborn as sns\n",
    "import matplotlib.pyplot as plt"
   ]
  },
  {
   "cell_type": "code",
   "execution_count": 27,
   "metadata": {},
   "outputs": [
    {
     "data": {
      "text/plain": [
       "0.14285714285714285"
      ]
     },
     "execution_count": 27,
     "metadata": {},
     "output_type": "execute_result"
    }
   ],
   "source": [
    "min(bb['sem_clicks_l'])"
   ]
  },
  {
   "cell_type": "code",
   "execution_count": 5,
   "metadata": {},
   "outputs": [],
   "source": [
    "bb['error'] = abs(bb['pred_rpc_brand']-bb['sem_rpc_brand_l'])"
   ]
  },
  {
   "cell_type": "code",
   "execution_count": 14,
   "metadata": {},
   "outputs": [
    {
     "data": {
      "text/plain": [
       "(array([1.00000e+00, 0.00000e+00, 0.00000e+00, 0.00000e+00, 1.00000e+00,\n",
       "        0.00000e+00, 0.00000e+00, 0.00000e+00, 0.00000e+00, 0.00000e+00,\n",
       "        0.00000e+00, 0.00000e+00, 0.00000e+00, 0.00000e+00, 0.00000e+00,\n",
       "        1.00000e+00, 1.00000e+00, 0.00000e+00, 0.00000e+00, 0.00000e+00,\n",
       "        0.00000e+00, 0.00000e+00, 0.00000e+00, 0.00000e+00, 2.00000e+00,\n",
       "        3.00000e+00, 2.00000e+00, 1.00000e+00, 3.00000e+00, 0.00000e+00,\n",
       "        3.00000e+00, 2.00000e+00, 5.00000e+00, 3.00000e+00, 7.00000e+00,\n",
       "        8.00000e+00, 1.30000e+01, 4.10000e+01, 1.83000e+02, 2.84861e+05,\n",
       "        5.95740e+04, 2.87510e+04, 1.76550e+04, 1.19200e+04, 8.69000e+03,\n",
       "        6.75700e+03, 5.30700e+03, 4.37200e+03, 3.70300e+03, 3.11500e+03,\n",
       "        2.74700e+03, 2.34000e+03, 2.02000e+03, 1.83700e+03, 1.53200e+03,\n",
       "        1.38900e+03, 1.24600e+03, 1.07400e+03, 1.05600e+03, 1.02100e+03,\n",
       "        9.02000e+02, 7.95000e+02, 7.41000e+02, 7.02000e+02, 6.56000e+02,\n",
       "        6.31000e+02, 5.93000e+02, 5.73000e+02, 5.18000e+02, 4.86000e+02,\n",
       "        5.19000e+02, 4.49000e+02, 4.01000e+02, 3.36000e+02, 3.59000e+02,\n",
       "        3.29000e+02, 3.58000e+02, 3.17000e+02, 3.11000e+02, 2.69000e+02,\n",
       "        2.51000e+02, 2.74000e+02, 2.57000e+02, 2.39000e+02, 2.10000e+02,\n",
       "        2.20000e+02, 2.12000e+02, 2.04000e+02, 1.93000e+02, 2.35000e+02,\n",
       "        1.96000e+02, 1.76000e+02, 1.62000e+02, 1.68000e+02, 1.54000e+02,\n",
       "        1.65000e+02, 1.67000e+02, 1.32000e+02, 1.44000e+02, 1.21000e+02]),\n",
       " array([-1.28314795, -1.25031768, -1.2174874 , -1.18465713, -1.15182685,\n",
       "        -1.11899658, -1.0861663 , -1.05333603, -1.02050575, -0.98767548,\n",
       "        -0.9548452 , -0.92201493, -0.88918465, -0.85635438, -0.82352411,\n",
       "        -0.79069383, -0.75786356, -0.72503328, -0.69220301, -0.65937273,\n",
       "        -0.62654246, -0.59371218, -0.56088191, -0.52805163, -0.49522136,\n",
       "        -0.46239108, -0.42956081, -0.39673053, -0.36390026, -0.33106998,\n",
       "        -0.29823971, -0.26540943, -0.23257916, -0.19974888, -0.16691861,\n",
       "        -0.13408833, -0.10125806, -0.06842779, -0.03559751, -0.00276724,\n",
       "         0.03006304,  0.06289331,  0.09572359,  0.12855386,  0.16138414,\n",
       "         0.19421441,  0.22704469,  0.25987496,  0.29270524,  0.32553551,\n",
       "         0.35836579,  0.39119606,  0.42402634,  0.45685661,  0.48968689,\n",
       "         0.52251716,  0.55534744,  0.58817771,  0.62100799,  0.65383826,\n",
       "         0.68666853,  0.71949881,  0.75232908,  0.78515936,  0.81798963,\n",
       "         0.85081991,  0.88365018,  0.91648046,  0.94931073,  0.98214101,\n",
       "         1.01497128,  1.04780156,  1.08063183,  1.11346211,  1.14629238,\n",
       "         1.17912266,  1.21195293,  1.24478321,  1.27761348,  1.31044376,\n",
       "         1.34327403,  1.37610431,  1.40893458,  1.44176486,  1.47459513,\n",
       "         1.5074254 ,  1.54025568,  1.57308595,  1.60591623,  1.6387465 ,\n",
       "         1.67157678,  1.70440705,  1.73723733,  1.7700676 ,  1.80289788,\n",
       "         1.83572815,  1.86855843,  1.9013887 ,  1.93421898,  1.96704925,\n",
       "         1.99987953]),\n",
       " <a list of 100 Patch objects>)"
      ]
     },
     "execution_count": 14,
     "metadata": {},
     "output_type": "execute_result"
    },
    {
     "data": {
      "image/png": "[encoded data removed]",
      "text/plain": [
       "<Figure size 432x288 with 1 Axes>"
      ]
     },
     "metadata": {
      "needs_background": "light"
     },
     "output_type": "display_data"
    }
   ],
   "source": [
    "plt.hist(bb[(bb['pred_rpc_brand'].isnull()==False)&(bb['pred_rpc_brand']<2)]['pred_rpc_brand'],bins=100)\n"
   ]
  },
  {
   "cell_type": "code",
   "execution_count": null,
   "metadata": {},
   "outputs": [],
   "source": [
    "sns.histplot(bb, x='sem_clicks_l', y = 'error')"
   ]
  },
  {
   "cell_type": "code",
   "execution_count": 12,
   "metadata": {},
   "outputs": [
    {
     "data": {
      "text/plain": [
       "-46.355550325517676"
      ]
     },
     "execution_count": 12,
     "metadata": {},
     "output_type": "execute_result"
    }
   ],
   "source": [
    "min(bb['pred_ordersize_brand'])"
   ]
  },
  {
   "cell_type": "code",
   "execution_count": 10,
   "metadata": {},
   "outputs": [
    {
     "data": {
      "text/plain": [
       "-1.2831479521197948"
      ]
     },
     "execution_count": 10,
     "metadata": {},
     "output_type": "execute_result"
    }
   ],
   "source": [
    "min(bb['pred_rpc_brand'])"
   ]
  },
  {
   "cell_type": "code",
   "execution_count": 36,
   "metadata": {},
   "outputs": [
    {
     "data": {
      "image/png": "[encoded data removed]",
      "text/plain": [
       "<Figure size 432x288 with 1 Axes>"
      ]
     },
     "metadata": {
      "needs_background": "light"
     },
     "output_type": "display_data"
    }
   ],
   "source": [
    "#obtain m (slope) and b(intercept) of linear regression line\n",
    "m, b = np.polyfit(bb[bb['pred_rpc_brand'].isnull()==False]['sem_clicks_l'], abs(bb[bb['pred_rpc_brand'].isnull()==False]['pred_rpc_brand']-bb[bb['pred_rpc_brand'].isnull()==False]['sem_rpc_brand_l']), 1)\n",
    "\n",
    "#add linear regression line to scatterplot \n",
    "plt.plot(bb[bb['pred_rpc_brand'].isnull()==False]['sem_clicks_l'], m*bbb[bb['pred_rpc_brand'].isnull()==False]['sem_clicks_l']+b)\n",
    "\n",
    "plt.scatter(bb['sem_clicks_l'], abs(bb['pred_rpc_brand']-bb['sem_rpc_brand_l']), c =\"blue\")\n",
    "plt.show()"
   ]
  },
  {
   "cell_type": "code",
   "execution_count": 35,
   "metadata": {},
   "outputs": [
    {
     "data": {
      "image/png": "[encoded data removed]",
      "text/plain": [
       "<Figure size 432x288 with 1 Axes>"
      ]
     },
     "metadata": {
      "needs_background": "light"
     },
     "output_type": "display_data"
    }
   ],
   "source": [
    "#obtain m (slope) and b(intercept) of linear regression line\n",
    "m, b = np.polyfit(bb[bb['pred_rpc_brand'].isnull()==False]['sem_clicks_l'], bb[bb['pred_rpc_brand'].isnull()==False]['pred_rpc_brand'], 1)\n",
    "\n",
    "#add linear regression line to scatterplot \n",
    "plt.plot(bb['sem_clicks_l'], m*bb['sem_clicks_l']+b)\n",
    "\n",
    "\n",
    "plt.scatter(bb['sem_clicks_l'], bb['pred_rpc_brand'], c =\"blue\")\n",
    "plt.show()"
   ]
  },
  {
   "cell_type": "code",
   "execution_count": 33,
   "metadata": {},
   "outputs": [
    {
     "data": {
      "text/html": [
       "<div>\n",
       "<style scoped>\n",
       "    .dataframe tbody tr th:only-of-type {\n",
       "        vertical-align: middle;\n",
       "    }\n",
       "\n",
       "    .dataframe tbody tr th {\n",
       "        vertical-align: top;\n",
       "    }\n",
       "\n",
       "    .dataframe thead th {\n",
       "        text-align: right;\n",
       "    }\n",
       "</style>\n",
       "<table border=\"1\" class=\"dataframe\">\n",
       "  <thead>\n",
       "    <tr style=\"text-align: right;\">\n",
       "      <th></th>\n",
       "      <th>pred_convrt_brand</th>\n",
       "      <th>pred_avg_ordersize_brand</th>\n",
       "      <th>pred_avg_convrt_brand</th>\n",
       "      <th>sem_convrt_brand_l</th>\n",
       "      <th>pred_avg_2w_rpc_brand</th>\n",
       "      <th>pred_rpc_brand</th>\n",
       "      <th>sem_ordersize_brand_l</th>\n",
       "      <th>pred_avg_2w_convrt_brand</th>\n",
       "      <th>sem_rpc_brand_l</th>\n",
       "      <th>pred_ordersize_brand</th>\n",
       "      <th>sem_pred_ordersize_dept_brand</th>\n",
       "      <th>pred_avg_rpc_brand</th>\n",
       "      <th>sem_orders_brand_l</th>\n",
       "      <th>pred_rpc_new_brand</th>\n",
       "      <th>sem_clicks_l</th>\n",
       "      <th>sem_pred_convrt_dept_brand</th>\n",
       "      <th>sem_pred_rpc_dept_brand</th>\n",
       "      <th>pred_avg_2w_ordersize_brand</th>\n",
       "    </tr>\n",
       "  </thead>\n",
       "  <tbody>\n",
       "    <tr>\n",
       "      <th>63</th>\n",
       "      <td>0.036307</td>\n",
       "      <td>7.58981</td>\n",
       "      <td>0.042621</td>\n",
       "      <td>0.025090</td>\n",
       "      <td>28.080707</td>\n",
       "      <td>NaN</td>\n",
       "      <td>511.241344</td>\n",
       "      <td>0.040874</td>\n",
       "      <td>12.826830</td>\n",
       "      <td>NaN</td>\n",
       "      <td>113.986113</td>\n",
       "      <td>2.465716</td>\n",
       "      <td>6.465943</td>\n",
       "      <td>NaN</td>\n",
       "      <td>257.714286</td>\n",
       "      <td>0.034808</td>\n",
       "      <td>2.596638</td>\n",
       "      <td>690.831600</td>\n",
       "    </tr>\n",
       "    <tr>\n",
       "      <th>75</th>\n",
       "      <td>NaN</td>\n",
       "      <td>7.58981</td>\n",
       "      <td>0.042621</td>\n",
       "      <td>0.351142</td>\n",
       "      <td>59.423206</td>\n",
       "      <td>NaN</td>\n",
       "      <td>93.751932</td>\n",
       "      <td>0.660135</td>\n",
       "      <td>32.920270</td>\n",
       "      <td>96.761809</td>\n",
       "      <td>149.832573</td>\n",
       "      <td>2.465716</td>\n",
       "      <td>84.173829</td>\n",
       "      <td>41.851575</td>\n",
       "      <td>239.714286</td>\n",
       "      <td>0.043887</td>\n",
       "      <td>6.252068</td>\n",
       "      <td>90.577833</td>\n",
       "    </tr>\n",
       "    <tr>\n",
       "      <th>133</th>\n",
       "      <td>0.039646</td>\n",
       "      <td>7.58981</td>\n",
       "      <td>0.042621</td>\n",
       "      <td>0.010385</td>\n",
       "      <td>28.527319</td>\n",
       "      <td>NaN</td>\n",
       "      <td>642.765373</td>\n",
       "      <td>0.038936</td>\n",
       "      <td>6.675349</td>\n",
       "      <td>NaN</td>\n",
       "      <td>149.832573</td>\n",
       "      <td>2.465716</td>\n",
       "      <td>1.844143</td>\n",
       "      <td>NaN</td>\n",
       "      <td>177.571429</td>\n",
       "      <td>0.043887</td>\n",
       "      <td>6.252068</td>\n",
       "      <td>736.209207</td>\n",
       "    </tr>\n",
       "    <tr>\n",
       "      <th>170</th>\n",
       "      <td>0.013201</td>\n",
       "      <td>7.58981</td>\n",
       "      <td>0.042621</td>\n",
       "      <td>0.005613</td>\n",
       "      <td>2.461641</td>\n",
       "      <td>NaN</td>\n",
       "      <td>703.150000</td>\n",
       "      <td>0.003576</td>\n",
       "      <td>3.946586</td>\n",
       "      <td>NaN</td>\n",
       "      <td>149.832573</td>\n",
       "      <td>2.465716</td>\n",
       "      <td>0.857143</td>\n",
       "      <td>NaN</td>\n",
       "      <td>152.714286</td>\n",
       "      <td>0.043887</td>\n",
       "      <td>6.252068</td>\n",
       "      <td>701.966374</td>\n",
       "    </tr>\n",
       "    <tr>\n",
       "      <th>178</th>\n",
       "      <td>0.036792</td>\n",
       "      <td>7.58981</td>\n",
       "      <td>0.042621</td>\n",
       "      <td>0.006006</td>\n",
       "      <td>21.805457</td>\n",
       "      <td>NaN</td>\n",
       "      <td>568.990000</td>\n",
       "      <td>0.039008</td>\n",
       "      <td>3.417357</td>\n",
       "      <td>NaN</td>\n",
       "      <td>135.342869</td>\n",
       "      <td>2.465716</td>\n",
       "      <td>0.857143</td>\n",
       "      <td>NaN</td>\n",
       "      <td>142.714286</td>\n",
       "      <td>0.033165</td>\n",
       "      <td>3.960073</td>\n",
       "      <td>558.990010</td>\n",
       "    </tr>\n",
       "    <tr>\n",
       "      <th>...</th>\n",
       "      <td>...</td>\n",
       "      <td>...</td>\n",
       "      <td>...</td>\n",
       "      <td>...</td>\n",
       "      <td>...</td>\n",
       "      <td>...</td>\n",
       "      <td>...</td>\n",
       "      <td>...</td>\n",
       "      <td>...</td>\n",
       "      <td>...</td>\n",
       "      <td>...</td>\n",
       "      <td>...</td>\n",
       "      <td>...</td>\n",
       "      <td>...</td>\n",
       "      <td>...</td>\n",
       "      <td>...</td>\n",
       "      <td>...</td>\n",
       "      <td>...</td>\n",
       "    </tr>\n",
       "    <tr>\n",
       "      <th>499781</th>\n",
       "      <td>NaN</td>\n",
       "      <td>7.58981</td>\n",
       "      <td>0.042621</td>\n",
       "      <td>1.000000</td>\n",
       "      <td>0.000000</td>\n",
       "      <td>NaN</td>\n",
       "      <td>25.990000</td>\n",
       "      <td>0.000000</td>\n",
       "      <td>25.990000</td>\n",
       "      <td>6.380874</td>\n",
       "      <td>42.746600</td>\n",
       "      <td>2.465716</td>\n",
       "      <td>0.285714</td>\n",
       "      <td>3.496935</td>\n",
       "      <td>0.285714</td>\n",
       "      <td>0.056377</td>\n",
       "      <td>2.876175</td>\n",
       "      <td>NaN</td>\n",
       "    </tr>\n",
       "    <tr>\n",
       "      <th>499784</th>\n",
       "      <td>NaN</td>\n",
       "      <td>7.58981</td>\n",
       "      <td>0.042621</td>\n",
       "      <td>1.000000</td>\n",
       "      <td>NaN</td>\n",
       "      <td>NaN</td>\n",
       "      <td>23.990000</td>\n",
       "      <td>NaN</td>\n",
       "      <td>23.990000</td>\n",
       "      <td>2.167676</td>\n",
       "      <td>NaN</td>\n",
       "      <td>2.465716</td>\n",
       "      <td>0.285714</td>\n",
       "      <td>1.895388</td>\n",
       "      <td>0.285714</td>\n",
       "      <td>NaN</td>\n",
       "      <td>NaN</td>\n",
       "      <td>NaN</td>\n",
       "    </tr>\n",
       "    <tr>\n",
       "      <th>499802</th>\n",
       "      <td>NaN</td>\n",
       "      <td>7.58981</td>\n",
       "      <td>0.042621</td>\n",
       "      <td>0.301300</td>\n",
       "      <td>0.000000</td>\n",
       "      <td>NaN</td>\n",
       "      <td>96.896781</td>\n",
       "      <td>0.000000</td>\n",
       "      <td>29.195000</td>\n",
       "      <td>3.920961</td>\n",
       "      <td>NaN</td>\n",
       "      <td>2.465716</td>\n",
       "      <td>0.086086</td>\n",
       "      <td>1.594656</td>\n",
       "      <td>0.285714</td>\n",
       "      <td>NaN</td>\n",
       "      <td>NaN</td>\n",
       "      <td>NaN</td>\n",
       "    </tr>\n",
       "    <tr>\n",
       "      <th>499839</th>\n",
       "      <td>NaN</td>\n",
       "      <td>7.58981</td>\n",
       "      <td>0.042621</td>\n",
       "      <td>0.333300</td>\n",
       "      <td>0.000000</td>\n",
       "      <td>NaN</td>\n",
       "      <td>9.960996</td>\n",
       "      <td>0.000000</td>\n",
       "      <td>3.320000</td>\n",
       "      <td>3.899690</td>\n",
       "      <td>31.151966</td>\n",
       "      <td>2.465716</td>\n",
       "      <td>0.095229</td>\n",
       "      <td>1.715981</td>\n",
       "      <td>0.285714</td>\n",
       "      <td>0.052079</td>\n",
       "      <td>1.510675</td>\n",
       "      <td>NaN</td>\n",
       "    </tr>\n",
       "    <tr>\n",
       "      <th>499853</th>\n",
       "      <td>NaN</td>\n",
       "      <td>7.58981</td>\n",
       "      <td>0.042621</td>\n",
       "      <td>1.000000</td>\n",
       "      <td>0.000000</td>\n",
       "      <td>NaN</td>\n",
       "      <td>99.000000</td>\n",
       "      <td>0.000000</td>\n",
       "      <td>99.000000</td>\n",
       "      <td>4.573368</td>\n",
       "      <td>33.027462</td>\n",
       "      <td>2.465716</td>\n",
       "      <td>0.285714</td>\n",
       "      <td>1.841254</td>\n",
       "      <td>0.285714</td>\n",
       "      <td>0.020661</td>\n",
       "      <td>0.654556</td>\n",
       "      <td>NaN</td>\n",
       "    </tr>\n",
       "  </tbody>\n",
       "</table>\n",
       "<p>26962 rows × 18 columns</p>\n",
       "</div>"
      ],
      "text/plain": [
       "        pred_convrt_brand  pred_avg_ordersize_brand  pred_avg_convrt_brand  \\\n",
       "63               0.036307                   7.58981               0.042621   \n",
       "75                    NaN                   7.58981               0.042621   \n",
       "133              0.039646                   7.58981               0.042621   \n",
       "170              0.013201                   7.58981               0.042621   \n",
       "178              0.036792                   7.58981               0.042621   \n",
       "...                   ...                       ...                    ...   \n",
       "499781                NaN                   7.58981               0.042621   \n",
       "499784                NaN                   7.58981               0.042621   \n",
       "499802                NaN                   7.58981               0.042621   \n",
       "499839                NaN                   7.58981               0.042621   \n",
       "499853                NaN                   7.58981               0.042621   \n",
       "\n",
       "        sem_convrt_brand_l  pred_avg_2w_rpc_brand  pred_rpc_brand  \\\n",
       "63                0.025090              28.080707             NaN   \n",
       "75                0.351142              59.423206             NaN   \n",
       "133               0.010385              28.527319             NaN   \n",
       "170               0.005613               2.461641             NaN   \n",
       "178               0.006006              21.805457             NaN   \n",
       "...                    ...                    ...             ...   \n",
       "499781            1.000000               0.000000             NaN   \n",
       "499784            1.000000                    NaN             NaN   \n",
       "499802            0.301300               0.000000             NaN   \n",
       "499839            0.333300               0.000000             NaN   \n",
       "499853            1.000000               0.000000             NaN   \n",
       "\n",
       "        sem_ordersize_brand_l  pred_avg_2w_convrt_brand  sem_rpc_brand_l  \\\n",
       "63                 511.241344                  0.040874        12.826830   \n",
       "75                  93.751932                  0.660135        32.920270   \n",
       "133                642.765373                  0.038936         6.675349   \n",
       "170                703.150000                  0.003576         3.946586   \n",
       "178                568.990000                  0.039008         3.417357   \n",
       "...                       ...                       ...              ...   \n",
       "499781              25.990000                  0.000000        25.990000   \n",
       "499784              23.990000                       NaN        23.990000   \n",
       "499802              96.896781                  0.000000        29.195000   \n",
       "499839               9.960996                  0.000000         3.320000   \n",
       "499853              99.000000                  0.000000        99.000000   \n",
       "\n",
       "        pred_ordersize_brand  sem_pred_ordersize_dept_brand  \\\n",
       "63                       NaN                     113.986113   \n",
       "75                 96.761809                     149.832573   \n",
       "133                      NaN                     149.832573   \n",
       "170                      NaN                     149.832573   \n",
       "178                      NaN                     135.342869   \n",
       "...                      ...                            ...   \n",
       "499781              6.380874                      42.746600   \n",
       "499784              2.167676                            NaN   \n",
       "499802              3.920961                            NaN   \n",
       "499839              3.899690                      31.151966   \n",
       "499853              4.573368                      33.027462   \n",
       "\n",
       "        pred_avg_rpc_brand  sem_orders_brand_l  pred_rpc_new_brand  \\\n",
       "63                2.465716            6.465943                 NaN   \n",
       "75                2.465716           84.173829           41.851575   \n",
       "133               2.465716            1.844143                 NaN   \n",
       "170               2.465716            0.857143                 NaN   \n",
       "178               2.465716            0.857143                 NaN   \n",
       "...                    ...                 ...                 ...   \n",
       "499781            2.465716            0.285714            3.496935   \n",
       "499784            2.465716            0.285714            1.895388   \n",
       "499802            2.465716            0.086086            1.594656   \n",
       "499839            2.465716            0.095229            1.715981   \n",
       "499853            2.465716            0.285714            1.841254   \n",
       "\n",
       "        sem_clicks_l  sem_pred_convrt_dept_brand  sem_pred_rpc_dept_brand  \\\n",
       "63        257.714286                    0.034808                 2.596638   \n",
       "75        239.714286                    0.043887                 6.252068   \n",
       "133       177.571429                    0.043887                 6.252068   \n",
       "170       152.714286                    0.043887                 6.252068   \n",
       "178       142.714286                    0.033165                 3.960073   \n",
       "...              ...                         ...                      ...   \n",
       "499781      0.285714                    0.056377                 2.876175   \n",
       "499784      0.285714                         NaN                      NaN   \n",
       "499802      0.285714                         NaN                      NaN   \n",
       "499839      0.285714                    0.052079                 1.510675   \n",
       "499853      0.285714                    0.020661                 0.654556   \n",
       "\n",
       "        pred_avg_2w_ordersize_brand  \n",
       "63                       690.831600  \n",
       "75                        90.577833  \n",
       "133                      736.209207  \n",
       "170                      701.966374  \n",
       "178                      558.990010  \n",
       "...                             ...  \n",
       "499781                          NaN  \n",
       "499784                          NaN  \n",
       "499802                          NaN  \n",
       "499839                          NaN  \n",
       "499853                          NaN  \n",
       "\n",
       "[26962 rows x 18 columns]"
      ]
     },
     "execution_count": 33,
     "metadata": {},
     "output_type": "execute_result"
    }
   ],
   "source": [
    "bb[bb['pred_rpc_brand'].isnull()==False]"
   ]
  },
  {
   "cell_type": "code",
   "execution_count": 34,
   "metadata": {},
   "outputs": [
    {
     "data": {
      "image/png": "[encoded data removed]",
      "text/plain": [
       "<Figure size 432x288 with 1 Axes>"
      ]
     },
     "metadata": {
      "needs_background": "light"
     },
     "output_type": "display_data"
    }
   ],
   "source": [
    "#obtain m (slope) and b(intercept) of linear regression line\n",
    "m, b = np.polyfit(bb[bb['pred_rpc_brand'].isnull()==False]['sem_clicks_l'], bb[bb['pred_rpc_brand'].isnull()==False]['pred_rpc_brand'], 1)\n",
    "\n",
    "#add linear regression line to scatterplot \n",
    "plt.plot(bb['sem_clicks_l'], m*bb['sem_clicks_l']+b)\n",
    "plt.show()"
   ]
  },
  {
   "cell_type": "code",
   "execution_count": 23,
   "metadata": {},
   "outputs": [
    {
     "ename": "KeyboardInterrupt",
     "evalue": "",
     "output_type": "error",
     "traceback": [
      "\u001b[0;31m---------------------------------------------------------------------------\u001b[0m",
      "\u001b[0;31mKeyboardInterrupt\u001b[0m                         Traceback (most recent call last)",
      "\u001b[0;32m<ipython-input-23-13129c50de30>\u001b[0m in \u001b[0;36m<module>\u001b[0;34m\u001b[0m\n\u001b[0;32m----> 1\u001b[0;31m \u001b[0msns\u001b[0m\u001b[0;34m.\u001b[0m\u001b[0mregplot\u001b[0m\u001b[0;34m(\u001b[0m\u001b[0mdata\u001b[0m \u001b[0;34m=\u001b[0m \u001b[0mbb\u001b[0m\u001b[0;34m,\u001b[0m \u001b[0mx\u001b[0m\u001b[0;34m=\u001b[0m\u001b[0;34m'sem_clicks_l'\u001b[0m\u001b[0;34m,\u001b[0m\u001b[0my\u001b[0m \u001b[0;34m=\u001b[0m \u001b[0;34m'pred_rpc_brand'\u001b[0m\u001b[0;34m)\u001b[0m\u001b[0;34m\u001b[0m\u001b[0;34m\u001b[0m\u001b[0m\n\u001b[0m",
      "\u001b[0;32m~/.local/lib/python3.6/site-packages/seaborn/_decorators.py\u001b[0m in \u001b[0;36minner_f\u001b[0;34m(*args, **kwargs)\u001b[0m\n\u001b[1;32m     44\u001b[0m             )\n\u001b[1;32m     45\u001b[0m         \u001b[0mkwargs\u001b[0m\u001b[0;34m.\u001b[0m\u001b[0mupdate\u001b[0m\u001b[0;34m(\u001b[0m\u001b[0;34m{\u001b[0m\u001b[0mk\u001b[0m\u001b[0;34m:\u001b[0m \u001b[0marg\u001b[0m \u001b[0;32mfor\u001b[0m \u001b[0mk\u001b[0m\u001b[0;34m,\u001b[0m \u001b[0marg\u001b[0m \u001b[0;32min\u001b[0m \u001b[0mzip\u001b[0m\u001b[0;34m(\u001b[0m\u001b[0msig\u001b[0m\u001b[0;34m.\u001b[0m\u001b[0mparameters\u001b[0m\u001b[0;34m,\u001b[0m \u001b[0margs\u001b[0m\u001b[0;34m)\u001b[0m\u001b[0;34m}\u001b[0m\u001b[0;34m)\u001b[0m\u001b[0;34m\u001b[0m\u001b[0;34m\u001b[0m\u001b[0m\n\u001b[0;32m---> 46\u001b[0;31m         \u001b[0;32mreturn\u001b[0m \u001b[0mf\u001b[0m\u001b[0;34m(\u001b[0m\u001b[0;34m**\u001b[0m\u001b[0mkwargs\u001b[0m\u001b[0;34m)\u001b[0m\u001b[0;34m\u001b[0m\u001b[0;34m\u001b[0m\u001b[0m\n\u001b[0m\u001b[1;32m     47\u001b[0m     \u001b[0;32mreturn\u001b[0m \u001b[0minner_f\u001b[0m\u001b[0;34m\u001b[0m\u001b[0;34m\u001b[0m\u001b[0m\n\u001b[1;32m     48\u001b[0m \u001b[0;34m\u001b[0m\u001b[0m\n",
      "\u001b[0;32m~/.local/lib/python3.6/site-packages/seaborn/regression.py\u001b[0m in \u001b[0;36mregplot\u001b[0;34m(x, y, data, x_estimator, x_bins, x_ci, scatter, fit_reg, ci, n_boot, units, seed, order, logistic, lowess, robust, logx, x_partial, y_partial, truncate, dropna, x_jitter, y_jitter, label, color, marker, scatter_kws, line_kws, ax)\u001b[0m\n\u001b[1;32m    861\u001b[0m     \u001b[0mscatter_kws\u001b[0m\u001b[0;34m[\u001b[0m\u001b[0;34m\"marker\"\u001b[0m\u001b[0;34m]\u001b[0m \u001b[0;34m=\u001b[0m \u001b[0mmarker\u001b[0m\u001b[0;34m\u001b[0m\u001b[0;34m\u001b[0m\u001b[0m\n\u001b[1;32m    862\u001b[0m     \u001b[0mline_kws\u001b[0m \u001b[0;34m=\u001b[0m \u001b[0;34m{\u001b[0m\u001b[0;34m}\u001b[0m \u001b[0;32mif\u001b[0m \u001b[0mline_kws\u001b[0m \u001b[0;32mis\u001b[0m \u001b[0;32mNone\u001b[0m \u001b[0;32melse\u001b[0m \u001b[0mcopy\u001b[0m\u001b[0;34m.\u001b[0m\u001b[0mcopy\u001b[0m\u001b[0;34m(\u001b[0m\u001b[0mline_kws\u001b[0m\u001b[0;34m)\u001b[0m\u001b[0;34m\u001b[0m\u001b[0;34m\u001b[0m\u001b[0m\n\u001b[0;32m--> 863\u001b[0;31m     \u001b[0mplotter\u001b[0m\u001b[0;34m.\u001b[0m\u001b[0mplot\u001b[0m\u001b[0;34m(\u001b[0m\u001b[0max\u001b[0m\u001b[0;34m,\u001b[0m \u001b[0mscatter_kws\u001b[0m\u001b[0;34m,\u001b[0m \u001b[0mline_kws\u001b[0m\u001b[0;34m)\u001b[0m\u001b[0;34m\u001b[0m\u001b[0;34m\u001b[0m\u001b[0m\n\u001b[0m\u001b[1;32m    864\u001b[0m     \u001b[0;32mreturn\u001b[0m \u001b[0max\u001b[0m\u001b[0;34m\u001b[0m\u001b[0;34m\u001b[0m\u001b[0m\n\u001b[1;32m    865\u001b[0m \u001b[0;34m\u001b[0m\u001b[0m\n",
      "\u001b[0;32m~/.local/lib/python3.6/site-packages/seaborn/regression.py\u001b[0m in \u001b[0;36mplot\u001b[0;34m(self, ax, scatter_kws, line_kws)\u001b[0m\n\u001b[1;32m    368\u001b[0m \u001b[0;34m\u001b[0m\u001b[0m\n\u001b[1;32m    369\u001b[0m         \u001b[0;32mif\u001b[0m \u001b[0mself\u001b[0m\u001b[0;34m.\u001b[0m\u001b[0mfit_reg\u001b[0m\u001b[0;34m:\u001b[0m\u001b[0;34m\u001b[0m\u001b[0;34m\u001b[0m\u001b[0m\n\u001b[0;32m--> 370\u001b[0;31m             \u001b[0mself\u001b[0m\u001b[0;34m.\u001b[0m\u001b[0mlineplot\u001b[0m\u001b[0;34m(\u001b[0m\u001b[0max\u001b[0m\u001b[0;34m,\u001b[0m \u001b[0mline_kws\u001b[0m\u001b[0;34m)\u001b[0m\u001b[0;34m\u001b[0m\u001b[0;34m\u001b[0m\u001b[0m\n\u001b[0m\u001b[1;32m    371\u001b[0m \u001b[0;34m\u001b[0m\u001b[0m\n\u001b[1;32m    372\u001b[0m         \u001b[0;31m# Label the axes\u001b[0m\u001b[0;34m\u001b[0m\u001b[0;34m\u001b[0m\u001b[0;34m\u001b[0m\u001b[0m\n",
      "\u001b[0;32m~/.local/lib/python3.6/site-packages/seaborn/regression.py\u001b[0m in \u001b[0;36mlineplot\u001b[0;34m(self, ax, kws)\u001b[0m\n\u001b[1;32m    411\u001b[0m         \u001b[0;34m\"\"\"Draw the model.\"\"\"\u001b[0m\u001b[0;34m\u001b[0m\u001b[0;34m\u001b[0m\u001b[0m\n\u001b[1;32m    412\u001b[0m         \u001b[0;31m# Fit the regression model\u001b[0m\u001b[0;34m\u001b[0m\u001b[0;34m\u001b[0m\u001b[0;34m\u001b[0m\u001b[0m\n\u001b[0;32m--> 413\u001b[0;31m         \u001b[0mgrid\u001b[0m\u001b[0;34m,\u001b[0m \u001b[0myhat\u001b[0m\u001b[0;34m,\u001b[0m \u001b[0merr_bands\u001b[0m \u001b[0;34m=\u001b[0m \u001b[0mself\u001b[0m\u001b[0;34m.\u001b[0m\u001b[0mfit_regression\u001b[0m\u001b[0;34m(\u001b[0m\u001b[0max\u001b[0m\u001b[0;34m)\u001b[0m\u001b[0;34m\u001b[0m\u001b[0;34m\u001b[0m\u001b[0m\n\u001b[0m\u001b[1;32m    414\u001b[0m         \u001b[0medges\u001b[0m \u001b[0;34m=\u001b[0m \u001b[0mgrid\u001b[0m\u001b[0;34m[\u001b[0m\u001b[0;36m0\u001b[0m\u001b[0;34m]\u001b[0m\u001b[0;34m,\u001b[0m \u001b[0mgrid\u001b[0m\u001b[0;34m[\u001b[0m\u001b[0;34m-\u001b[0m\u001b[0;36m1\u001b[0m\u001b[0;34m]\u001b[0m\u001b[0;34m\u001b[0m\u001b[0;34m\u001b[0m\u001b[0m\n\u001b[1;32m    415\u001b[0m \u001b[0;34m\u001b[0m\u001b[0m\n",
      "\u001b[0;32m~/.local/lib/python3.6/site-packages/seaborn/regression.py\u001b[0m in \u001b[0;36mfit_regression\u001b[0;34m(self, ax, x_range, grid)\u001b[0m\n\u001b[1;32m    219\u001b[0m             \u001b[0myhat\u001b[0m\u001b[0;34m,\u001b[0m \u001b[0myhat_boots\u001b[0m \u001b[0;34m=\u001b[0m \u001b[0mself\u001b[0m\u001b[0;34m.\u001b[0m\u001b[0mfit_logx\u001b[0m\u001b[0;34m(\u001b[0m\u001b[0mgrid\u001b[0m\u001b[0;34m)\u001b[0m\u001b[0;34m\u001b[0m\u001b[0;34m\u001b[0m\u001b[0m\n\u001b[1;32m    220\u001b[0m         \u001b[0;32melse\u001b[0m\u001b[0;34m:\u001b[0m\u001b[0;34m\u001b[0m\u001b[0;34m\u001b[0m\u001b[0m\n\u001b[0;32m--> 221\u001b[0;31m             \u001b[0myhat\u001b[0m\u001b[0;34m,\u001b[0m \u001b[0myhat_boots\u001b[0m \u001b[0;34m=\u001b[0m \u001b[0mself\u001b[0m\u001b[0;34m.\u001b[0m\u001b[0mfit_fast\u001b[0m\u001b[0;34m(\u001b[0m\u001b[0mgrid\u001b[0m\u001b[0;34m)\u001b[0m\u001b[0;34m\u001b[0m\u001b[0;34m\u001b[0m\u001b[0m\n\u001b[0m\u001b[1;32m    222\u001b[0m \u001b[0;34m\u001b[0m\u001b[0m\n\u001b[1;32m    223\u001b[0m         \u001b[0;31m# Compute the confidence interval at each grid point\u001b[0m\u001b[0;34m\u001b[0m\u001b[0;34m\u001b[0m\u001b[0;34m\u001b[0m\u001b[0m\n",
      "\u001b[0;32m~/.local/lib/python3.6/site-packages/seaborn/regression.py\u001b[0m in \u001b[0;36mfit_fast\u001b[0;34m(self, grid)\u001b[0m\n\u001b[1;32m    244\u001b[0m                                     \u001b[0mn_boot\u001b[0m\u001b[0;34m=\u001b[0m\u001b[0mself\u001b[0m\u001b[0;34m.\u001b[0m\u001b[0mn_boot\u001b[0m\u001b[0;34m,\u001b[0m\u001b[0;34m\u001b[0m\u001b[0;34m\u001b[0m\u001b[0m\n\u001b[1;32m    245\u001b[0m                                     \u001b[0munits\u001b[0m\u001b[0;34m=\u001b[0m\u001b[0mself\u001b[0m\u001b[0;34m.\u001b[0m\u001b[0munits\u001b[0m\u001b[0;34m,\u001b[0m\u001b[0;34m\u001b[0m\u001b[0;34m\u001b[0m\u001b[0m\n\u001b[0;32m--> 246\u001b[0;31m                                     seed=self.seed).T\n\u001b[0m\u001b[1;32m    247\u001b[0m         \u001b[0myhat_boots\u001b[0m \u001b[0;34m=\u001b[0m \u001b[0mgrid\u001b[0m\u001b[0;34m.\u001b[0m\u001b[0mdot\u001b[0m\u001b[0;34m(\u001b[0m\u001b[0mbeta_boots\u001b[0m\u001b[0;34m)\u001b[0m\u001b[0;34m.\u001b[0m\u001b[0mT\u001b[0m\u001b[0;34m\u001b[0m\u001b[0;34m\u001b[0m\u001b[0m\n\u001b[1;32m    248\u001b[0m         \u001b[0;32mreturn\u001b[0m \u001b[0myhat\u001b[0m\u001b[0;34m,\u001b[0m \u001b[0myhat_boots\u001b[0m\u001b[0;34m\u001b[0m\u001b[0;34m\u001b[0m\u001b[0m\n",
      "\u001b[0;32m~/.local/lib/python3.6/site-packages/seaborn/algorithms.py\u001b[0m in \u001b[0;36mbootstrap\u001b[0;34m(*args, **kwargs)\u001b[0m\n\u001b[1;32m     83\u001b[0m         \u001b[0mresampler\u001b[0m \u001b[0;34m=\u001b[0m \u001b[0mintegers\u001b[0m\u001b[0;34m(\u001b[0m\u001b[0;36m0\u001b[0m\u001b[0;34m,\u001b[0m \u001b[0mn\u001b[0m\u001b[0;34m,\u001b[0m \u001b[0mn\u001b[0m\u001b[0;34m,\u001b[0m \u001b[0mdtype\u001b[0m\u001b[0;34m=\u001b[0m\u001b[0mnp\u001b[0m\u001b[0;34m.\u001b[0m\u001b[0mintp\u001b[0m\u001b[0;34m)\u001b[0m  \u001b[0;31m# intp is indexing dtype\u001b[0m\u001b[0;34m\u001b[0m\u001b[0;34m\u001b[0m\u001b[0m\n\u001b[1;32m     84\u001b[0m         \u001b[0msample\u001b[0m \u001b[0;34m=\u001b[0m \u001b[0;34m[\u001b[0m\u001b[0ma\u001b[0m\u001b[0;34m.\u001b[0m\u001b[0mtake\u001b[0m\u001b[0;34m(\u001b[0m\u001b[0mresampler\u001b[0m\u001b[0;34m,\u001b[0m \u001b[0maxis\u001b[0m\u001b[0;34m=\u001b[0m\u001b[0;36m0\u001b[0m\u001b[0;34m)\u001b[0m \u001b[0;32mfor\u001b[0m \u001b[0ma\u001b[0m \u001b[0;32min\u001b[0m \u001b[0margs\u001b[0m\u001b[0;34m]\u001b[0m\u001b[0;34m\u001b[0m\u001b[0;34m\u001b[0m\u001b[0m\n\u001b[0;32m---> 85\u001b[0;31m         \u001b[0mboot_dist\u001b[0m\u001b[0;34m.\u001b[0m\u001b[0mappend\u001b[0m\u001b[0;34m(\u001b[0m\u001b[0mf\u001b[0m\u001b[0;34m(\u001b[0m\u001b[0;34m*\u001b[0m\u001b[0msample\u001b[0m\u001b[0;34m,\u001b[0m \u001b[0;34m**\u001b[0m\u001b[0mfunc_kwargs\u001b[0m\u001b[0;34m)\u001b[0m\u001b[0;34m)\u001b[0m\u001b[0;34m\u001b[0m\u001b[0;34m\u001b[0m\u001b[0m\n\u001b[0m\u001b[1;32m     86\u001b[0m     \u001b[0;32mreturn\u001b[0m \u001b[0mnp\u001b[0m\u001b[0;34m.\u001b[0m\u001b[0marray\u001b[0m\u001b[0;34m(\u001b[0m\u001b[0mboot_dist\u001b[0m\u001b[0;34m)\u001b[0m\u001b[0;34m\u001b[0m\u001b[0;34m\u001b[0m\u001b[0m\n\u001b[1;32m     87\u001b[0m \u001b[0;34m\u001b[0m\u001b[0m\n",
      "\u001b[0;32m~/.local/lib/python3.6/site-packages/seaborn/regression.py\u001b[0m in \u001b[0;36mreg_func\u001b[0;34m(_x, _y)\u001b[0m\n\u001b[1;32m    232\u001b[0m         \u001b[0;34m\"\"\"Low-level regression and prediction using linear algebra.\"\"\"\u001b[0m\u001b[0;34m\u001b[0m\u001b[0;34m\u001b[0m\u001b[0m\n\u001b[1;32m    233\u001b[0m         \u001b[0;32mdef\u001b[0m \u001b[0mreg_func\u001b[0m\u001b[0;34m(\u001b[0m\u001b[0m_x\u001b[0m\u001b[0;34m,\u001b[0m \u001b[0m_y\u001b[0m\u001b[0;34m)\u001b[0m\u001b[0;34m:\u001b[0m\u001b[0;34m\u001b[0m\u001b[0;34m\u001b[0m\u001b[0m\n\u001b[0;32m--> 234\u001b[0;31m             \u001b[0;32mreturn\u001b[0m \u001b[0mnp\u001b[0m\u001b[0;34m.\u001b[0m\u001b[0mlinalg\u001b[0m\u001b[0;34m.\u001b[0m\u001b[0mpinv\u001b[0m\u001b[0;34m(\u001b[0m\u001b[0m_x\u001b[0m\u001b[0;34m)\u001b[0m\u001b[0;34m.\u001b[0m\u001b[0mdot\u001b[0m\u001b[0;34m(\u001b[0m\u001b[0m_y\u001b[0m\u001b[0;34m)\u001b[0m\u001b[0;34m\u001b[0m\u001b[0;34m\u001b[0m\u001b[0m\n\u001b[0m\u001b[1;32m    235\u001b[0m \u001b[0;34m\u001b[0m\u001b[0m\n\u001b[1;32m    236\u001b[0m         \u001b[0mX\u001b[0m\u001b[0;34m,\u001b[0m \u001b[0my\u001b[0m \u001b[0;34m=\u001b[0m \u001b[0mnp\u001b[0m\u001b[0;34m.\u001b[0m\u001b[0mc_\u001b[0m\u001b[0;34m[\u001b[0m\u001b[0mnp\u001b[0m\u001b[0;34m.\u001b[0m\u001b[0mones\u001b[0m\u001b[0;34m(\u001b[0m\u001b[0mlen\u001b[0m\u001b[0;34m(\u001b[0m\u001b[0mself\u001b[0m\u001b[0;34m.\u001b[0m\u001b[0mx\u001b[0m\u001b[0;34m)\u001b[0m\u001b[0;34m)\u001b[0m\u001b[0;34m,\u001b[0m \u001b[0mself\u001b[0m\u001b[0;34m.\u001b[0m\u001b[0mx\u001b[0m\u001b[0;34m]\u001b[0m\u001b[0;34m,\u001b[0m \u001b[0mself\u001b[0m\u001b[0;34m.\u001b[0m\u001b[0my\u001b[0m\u001b[0;34m\u001b[0m\u001b[0;34m\u001b[0m\u001b[0m\n",
      "\u001b[0;32m<__array_function__ internals>\u001b[0m in \u001b[0;36mpinv\u001b[0;34m(*args, **kwargs)\u001b[0m\n",
      "\u001b[0;32m~/.local/lib/python3.6/site-packages/numpy/linalg/linalg.py\u001b[0m in \u001b[0;36mpinv\u001b[0;34m(a, rcond, hermitian)\u001b[0m\n\u001b[1;32m   2001\u001b[0m         \u001b[0;32mreturn\u001b[0m \u001b[0mwrap\u001b[0m\u001b[0;34m(\u001b[0m\u001b[0mres\u001b[0m\u001b[0;34m)\u001b[0m\u001b[0;34m\u001b[0m\u001b[0;34m\u001b[0m\u001b[0m\n\u001b[1;32m   2002\u001b[0m     \u001b[0ma\u001b[0m \u001b[0;34m=\u001b[0m \u001b[0ma\u001b[0m\u001b[0;34m.\u001b[0m\u001b[0mconjugate\u001b[0m\u001b[0;34m(\u001b[0m\u001b[0;34m)\u001b[0m\u001b[0;34m\u001b[0m\u001b[0;34m\u001b[0m\u001b[0m\n\u001b[0;32m-> 2003\u001b[0;31m     \u001b[0mu\u001b[0m\u001b[0;34m,\u001b[0m \u001b[0ms\u001b[0m\u001b[0;34m,\u001b[0m \u001b[0mvt\u001b[0m \u001b[0;34m=\u001b[0m \u001b[0msvd\u001b[0m\u001b[0;34m(\u001b[0m\u001b[0ma\u001b[0m\u001b[0;34m,\u001b[0m \u001b[0mfull_matrices\u001b[0m\u001b[0;34m=\u001b[0m\u001b[0;32mFalse\u001b[0m\u001b[0;34m,\u001b[0m \u001b[0mhermitian\u001b[0m\u001b[0;34m=\u001b[0m\u001b[0mhermitian\u001b[0m\u001b[0;34m)\u001b[0m\u001b[0;34m\u001b[0m\u001b[0;34m\u001b[0m\u001b[0m\n\u001b[0m\u001b[1;32m   2004\u001b[0m \u001b[0;34m\u001b[0m\u001b[0m\n\u001b[1;32m   2005\u001b[0m     \u001b[0;31m# discard small singular values\u001b[0m\u001b[0;34m\u001b[0m\u001b[0;34m\u001b[0m\u001b[0;34m\u001b[0m\u001b[0m\n",
      "\u001b[0;32m<__array_function__ internals>\u001b[0m in \u001b[0;36msvd\u001b[0;34m(*args, **kwargs)\u001b[0m\n",
      "\u001b[0;32m~/.local/lib/python3.6/site-packages/numpy/linalg/linalg.py\u001b[0m in \u001b[0;36msvd\u001b[0;34m(a, full_matrices, compute_uv, hermitian)\u001b[0m\n\u001b[1;32m   1659\u001b[0m \u001b[0;34m\u001b[0m\u001b[0m\n\u001b[1;32m   1660\u001b[0m         \u001b[0msignature\u001b[0m \u001b[0;34m=\u001b[0m \u001b[0;34m'D->DdD'\u001b[0m \u001b[0;32mif\u001b[0m \u001b[0misComplexType\u001b[0m\u001b[0;34m(\u001b[0m\u001b[0mt\u001b[0m\u001b[0;34m)\u001b[0m \u001b[0;32melse\u001b[0m \u001b[0;34m'd->ddd'\u001b[0m\u001b[0;34m\u001b[0m\u001b[0;34m\u001b[0m\u001b[0m\n\u001b[0;32m-> 1661\u001b[0;31m         \u001b[0mu\u001b[0m\u001b[0;34m,\u001b[0m \u001b[0ms\u001b[0m\u001b[0;34m,\u001b[0m \u001b[0mvh\u001b[0m \u001b[0;34m=\u001b[0m \u001b[0mgufunc\u001b[0m\u001b[0;34m(\u001b[0m\u001b[0ma\u001b[0m\u001b[0;34m,\u001b[0m \u001b[0msignature\u001b[0m\u001b[0;34m=\u001b[0m\u001b[0msignature\u001b[0m\u001b[0;34m,\u001b[0m \u001b[0mextobj\u001b[0m\u001b[0;34m=\u001b[0m\u001b[0mextobj\u001b[0m\u001b[0;34m)\u001b[0m\u001b[0;34m\u001b[0m\u001b[0;34m\u001b[0m\u001b[0m\n\u001b[0m\u001b[1;32m   1662\u001b[0m         \u001b[0mu\u001b[0m \u001b[0;34m=\u001b[0m \u001b[0mu\u001b[0m\u001b[0;34m.\u001b[0m\u001b[0mastype\u001b[0m\u001b[0;34m(\u001b[0m\u001b[0mresult_t\u001b[0m\u001b[0;34m,\u001b[0m \u001b[0mcopy\u001b[0m\u001b[0;34m=\u001b[0m\u001b[0;32mFalse\u001b[0m\u001b[0;34m)\u001b[0m\u001b[0;34m\u001b[0m\u001b[0;34m\u001b[0m\u001b[0m\n\u001b[1;32m   1663\u001b[0m         \u001b[0ms\u001b[0m \u001b[0;34m=\u001b[0m \u001b[0ms\u001b[0m\u001b[0;34m.\u001b[0m\u001b[0mastype\u001b[0m\u001b[0;34m(\u001b[0m\u001b[0m_realType\u001b[0m\u001b[0;34m(\u001b[0m\u001b[0mresult_t\u001b[0m\u001b[0;34m)\u001b[0m\u001b[0;34m,\u001b[0m \u001b[0mcopy\u001b[0m\u001b[0;34m=\u001b[0m\u001b[0;32mFalse\u001b[0m\u001b[0;34m)\u001b[0m\u001b[0;34m\u001b[0m\u001b[0;34m\u001b[0m\u001b[0m\n",
      "\u001b[0;31mKeyboardInterrupt\u001b[0m: "
     ]
    },
    {
     "data": {
      "image/png": "[encoded data removed]",
      "text/plain": [
       "<Figure size 432x288 with 1 Axes>"
      ]
     },
     "metadata": {
      "needs_background": "light"
     },
     "output_type": "display_data"
    }
   ],
   "source": [
    "sns.regplot(data = bb, x='sem_clicks_l',y = 'pred_rpc_brand')\n"
   ]
  },
  {
   "cell_type": "code",
   "execution_count": null,
   "metadata": {},
   "outputs": [],
   "source": []
  },
  {
   "cell_type": "code",
   "execution_count": null,
   "metadata": {},
   "outputs": [],
   "source": []
  },
  {
   "cell_type": "code",
   "execution_count": null,
   "metadata": {},
   "outputs": [],
   "source": []
  },
  {
   "cell_type": "code",
   "execution_count": 9,
   "metadata": {},
   "outputs": [
    {
     "name": "stderr",
     "output_type": "stream",
     "text": [
      "/opt/conda/anaconda/lib/python3.6/site-packages/IPython/core/interactiveshell.py:3072: DtypeWarning: Columns (251) have mixed types. Specify dtype option on import or set low_memory=False.\n",
      "  interactivity=interactivity, compiler=compiler, result=result)\n"
     ]
    }
   ],
   "source": [
    "cc = pd.read_csv('rpc_feature_extraction/rpc_model/sample_data_full_feat/df_feat_all_coop_item_'+'2022-11-20'+'.csv')"
   ]
  },
  {
   "cell_type": "code",
   "execution_count": 10,
   "metadata": {},
   "outputs": [
    {
     "data": {
      "text/plain": [
       "245786"
      ]
     },
     "execution_count": 10,
     "metadata": {},
     "output_type": "execute_result"
    }
   ],
   "source": [
    "len(cc[cc['sem_clicks_l']>0])"
   ]
  },
  {
   "cell_type": "code",
   "execution_count": 13,
   "metadata": {},
   "outputs": [
    {
     "data": {
      "text/plain": [
       "500000"
      ]
     },
     "execution_count": 13,
     "metadata": {},
     "output_type": "execute_result"
    }
   ],
   "source": [
    "len(bb[bb['sem_clicks_l']>0])"
   ]
  },
  {
   "cell_type": "code",
   "execution_count": null,
   "metadata": {},
   "outputs": [],
   "source": [
    "item1 1000 clicks -->1/3 loss func\n",
    "item2 2000 clicks -->2/3 loss func"
   ]
  },
  {
   "cell_type": "code",
   "execution_count": null,
   "metadata": {},
   "outputs": [],
   "source": [
    "item1 1000 clicks -->0.47 loss func\n",
    "item2 2000 clicks -->0.53 loss func"
   ]
  },
  {
   "cell_type": "code",
   "execution_count": 60,
   "metadata": {},
   "outputs": [
    {
     "data": {
      "text/plain": [
       "0.2325024473226495"
      ]
     },
     "execution_count": 60,
     "metadata": {},
     "output_type": "execute_result"
    }
   ],
   "source": [
    "np.log(10)/(np.log(10)+np.log(2000))"
   ]
  },
  {
   "cell_type": "code",
   "execution_count": 5,
   "metadata": {},
   "outputs": [
    {
     "data": {
      "text/plain": [
       "500000"
      ]
     },
     "execution_count": 5,
     "metadata": {},
     "output_type": "execute_result"
    }
   ],
   "source": [
    "len(bb)"
   ]
  },
  {
   "cell_type": "code",
   "execution_count": 8,
   "metadata": {},
   "outputs": [
    {
     "data": {
      "text/plain": [
       "80194"
      ]
     },
     "execution_count": 8,
     "metadata": {},
     "output_type": "execute_result"
    }
   ],
   "source": [
    "len(bb[bb['sem_clicks_l']>0])"
   ]
  },
  {
   "cell_type": "code",
   "execution_count": 51,
   "metadata": {},
   "outputs": [],
   "source": [
    "dd = cc.iloc[cc.isnull().sum(1).sort_values(ascending=True).index]"
   ]
  },
  {
   "cell_type": "code",
   "execution_count": 50,
   "metadata": {},
   "outputs": [
    {
     "data": {
      "text/plain": [
       "Index(['Unnamed: 0', 'catalog_item_id', 'seller_id', 'adid', 'source_id',\n",
       "       'is_mobile', 'sem_impressions_l', 'sem_clicks_l', 'sem_adspend_l',\n",
       "       'sem_qty_l',\n",
       "       ...\n",
       "       'bc_sem_bounce_rate_w1', 'bc_sem_bounces_w1', 'bc_visits_w1',\n",
       "       'bc_sem_visits_w1', 'bc_bounce_rate_w2', 'bc_bounces_w2',\n",
       "       'bc_sem_bounce_rate_w2', 'bc_sem_bounces_w2', 'bc_visits_w2',\n",
       "       'bc_sem_visits_w2'],\n",
       "      dtype='object', length=285)"
      ]
     },
     "execution_count": 50,
     "metadata": {},
     "output_type": "execute_result"
    }
   ],
   "source": [
    "cc.columns"
   ]
  },
  {
   "cell_type": "code",
   "execution_count": 56,
   "metadata": {},
   "outputs": [],
   "source": [
    "ff = dd.head(500000)"
   ]
  },
  {
   "cell_type": "code",
   "execution_count": 57,
   "metadata": {},
   "outputs": [
    {
     "data": {
      "text/plain": [
       "50581"
      ]
     },
     "execution_count": 57,
     "metadata": {},
     "output_type": "execute_result"
    }
   ],
   "source": [
    "len(ff[ff['sem_clicks_l']>1])"
   ]
  },
  {
   "cell_type": "code",
   "execution_count": null,
   "metadata": {},
   "outputs": [],
   "source": []
  },
  {
   "cell_type": "code",
   "execution_count": null,
   "metadata": {},
   "outputs": [],
   "source": []
  },
  {
   "cell_type": "code",
   "execution_count": 37,
   "metadata": {},
   "outputs": [],
   "source": [
    "def wmae(y, y_pred, weights):\n",
    "    error = np.abs(y - y_pred)*np.log(weights.values + np.e)\n",
    "    return np.sum(error)/np.sum(np.log(weights.values + np.e))"
   ]
  },
  {
   "cell_type": "code",
   "execution_count": 43,
   "metadata": {},
   "outputs": [
    {
     "data": {
      "text/plain": [
       "Index(['pred_avg_convrt_brand', 'pred_avg_2w_ordersize_brand',\n",
       "       'pred_convrt_brand', 'sem_pred_convrt_dept_brand',\n",
       "       'pred_avg_2w_rpc_brand', 'pred_avg_ordersize_brand',\n",
       "       'sem_pred_rpc_dept_brand', 'sem_orders_brand_l', 'pred_rpc_new_brand',\n",
       "       'sem_convrt_brand_l', 'pred_avg_2w_convrt_brand', 'sem_rpc_brand_l',\n",
       "       'pred_rpc_brand', 'sem_clicks_l', 'pred_ordersize_brand',\n",
       "       'sem_pred_ordersize_dept_brand', 'pred_avg_rpc_brand',\n",
       "       'sem_ordersize_brand_l'],\n",
       "      dtype='object')"
      ]
     },
     "execution_count": 43,
     "metadata": {},
     "output_type": "execute_result"
    }
   ],
   "source": [
    "bb.columns"
   ]
  },
  {
   "cell_type": "code",
   "execution_count": 46,
   "metadata": {},
   "outputs": [
    {
     "data": {
      "text/plain": [
       "50581"
      ]
     },
     "execution_count": 46,
     "metadata": {},
     "output_type": "execute_result"
    }
   ],
   "source": [
    "len(bb[bb['sem_clicks_l']>1])"
   ]
  },
  {
   "cell_type": "code",
   "execution_count": 36,
   "metadata": {},
   "outputs": [
    {
     "data": {
      "text/plain": [
       "array([2.53174449, 3.05149111, 2.85011155, ..., 1.        , 1.05121979,\n",
       "       1.        ])"
      ]
     },
     "execution_count": 36,
     "metadata": {},
     "output_type": "execute_result"
    }
   ],
   "source": [
    "np.log(semcoop_clicks_l.values + np.e)"
   ]
  },
  {
   "cell_type": "code",
   "execution_count": 15,
   "metadata": {},
   "outputs": [],
   "source": [
    "pred_rpc_brand = bb['pred_rpc_brand']\n",
    "semcoop_rpc_brand_l = bb['sem_rpc_brand_l']\n",
    "semcoop_clicks_l = bb['sem_clicks_l']"
   ]
  },
  {
   "cell_type": "code",
   "execution_count": 38,
   "metadata": {},
   "outputs": [
    {
     "data": {
      "text/plain": [
       "0.832809624010118"
      ]
     },
     "execution_count": 38,
     "metadata": {},
     "output_type": "execute_result"
    }
   ],
   "source": [
    "wmae(semcoop_rpc_brand_l, pred_rpc_brand, semcoop_clicks_l)"
   ]
  },
  {
   "cell_type": "code",
   "execution_count": 17,
   "metadata": {},
   "outputs": [
    {
     "data": {
      "text/plain": [
       "0.7599636671877676"
      ]
     },
     "execution_count": 17,
     "metadata": {},
     "output_type": "execute_result"
    }
   ],
   "source": [
    "norm_error = np.abs(pred_rpc_brand-semcoop_rpc_brand_l)\n",
    "np.mean(norm_error)"
   ]
  },
  {
   "cell_type": "code",
   "execution_count": 18,
   "metadata": {},
   "outputs": [
    {
     "data": {
      "text/plain": [
       "1.6699400964368052"
      ]
     },
     "execution_count": 18,
     "metadata": {},
     "output_type": "execute_result"
    }
   ],
   "source": [
    "np.sum(norm_error*semcoop_clicks_l)/np.sum(semcoop_clicks_l)"
   ]
  },
  {
   "cell_type": "code",
   "execution_count": 11,
   "metadata": {},
   "outputs": [
    {
     "data": {
      "text/plain": [
       "0.616386928036985"
      ]
     },
     "execution_count": 11,
     "metadata": {},
     "output_type": "execute_result"
    }
   ],
   "source": [
    "np.mean(pred_rpc_brand)"
   ]
  },
  {
   "cell_type": "code",
   "execution_count": 12,
   "metadata": {},
   "outputs": [
    {
     "data": {
      "text/plain": [
       "0.8833921353879791"
      ]
     },
     "execution_count": 12,
     "metadata": {},
     "output_type": "execute_result"
    }
   ],
   "source": [
    "np.mean(semcoop_rpc_brand_l)"
   ]
  },
  {
   "cell_type": "code",
   "execution_count": null,
   "metadata": {},
   "outputs": [],
   "source": [
    "item 1: RPC 30\n",
    "item 2: RPC 1\n",
    "item 2: RPC 1\n",
    "item 2: RPC 1\n",
    "item 2: RPC 1\n",
    "item 2: RPC 1\n",
    "item 2: RPC 1\n",
    "item 2: RPC 1\n",
    "item 2: RPC 1\n",
    "    \n",
    "prediction 1\n",
    "\n",
    "Error: 1/2(29) + 1/2(1) --> 15\n",
    "Error: 14.5 - 20*0.5 --> 14 --> go down    "
   ]
  },
  {
   "cell_type": "code",
   "execution_count": 19,
   "metadata": {},
   "outputs": [],
   "source": [
    "df = pd.DataFrame({'pred_rpc_brand':pred_rpc_brand,'semcoop_rpc_brand_l':semcoop_rpc_brand_l,'norm_error':norm_error,'semcoop_clicks_l':semcoop_clicks_l})\n",
    "target_col = 'semcoop_rpc_brand_l'\n",
    "pred_col = 'pred_rpc_brand'\n",
    "weight_col = 'semcoop_clicks_l'\n",
    "filter_NoNA = df[target_col].notnull() & df[pred_col].notnull() & df[weight_col].notnull()\n",
    "df = df[filter_NoNA]\n",
    "df['weigted_error'] = df['norm_error']*df['semcoop_clicks_l']/sum(df['semcoop_clicks_l'])\n",
    "df['total_clicks'] = df['semcoop_clicks_l']*7"
   ]
  },
  {
   "cell_type": "code",
   "execution_count": 34,
   "metadata": {},
   "outputs": [
    {
     "data": {
      "text/plain": [
       "6.907755278982137"
      ]
     },
     "execution_count": 34,
     "metadata": {},
     "output_type": "execute_result"
    }
   ],
   "source": [
    "np.log(1000)"
   ]
  },
  {
   "cell_type": "code",
   "execution_count": 35,
   "metadata": {},
   "outputs": [
    {
     "data": {
      "text/plain": [
       "2.302585092994046"
      ]
     },
     "execution_count": 35,
     "metadata": {},
     "output_type": "execute_result"
    }
   ],
   "source": [
    "np.log(10)"
   ]
  },
  {
   "cell_type": "code",
   "execution_count": 32,
   "metadata": {},
   "outputs": [
    {
     "data": {
      "text/plain": [
       "[0, 0.1, 0.2, 0.3, 0.4, 0.5, 0.6, 0.7, 0.8, 0.9, 1]"
      ]
     },
     "execution_count": 32,
     "metadata": {},
     "output_type": "execute_result"
    }
   ],
   "source": [
    "[0,0.1,0.2,0.3,0.4,0.5,0.6,0.7,0.8,0.9,1]"
   ]
  },
  {
   "cell_type": "code",
   "execution_count": 33,
   "metadata": {},
   "outputs": [
    {
     "name": "stdout",
     "output_type": "stream",
     "text": [
      "0 num:  280364 210088 avg rpc:  0.0 0.3508436857697725 var rpc:  0.0 9.7399737303133\n",
      "0.1 num:  280364 210088 avg rpc:  0.0 0.3508436857697725 var rpc:  0.0 9.7399737303133\n",
      "0.2 num:  353088 137364 avg rpc:  0.008551889613920607 0.5146070197140442 var rpc:  0.2855711574042719 14.085766614216759\n",
      "0.3 num:  387952 102500 avg rpc:  0.014994052872520315 0.6623519556682926 var rpc:  0.47168618664812323 17.990878032147645\n",
      "0.4 num:  387952 102500 avg rpc:  0.014994052872520315 0.6623519556682926 var rpc:  0.47168618664812323 17.990878032147645\n",
      "0.5 num:  408173 82279 avg rpc:  0.019605559240812122 0.7985705748003759 var rpc:  0.5761362679521486 21.686224836653814\n",
      "0.6 num:  421317 69135 avg rpc:  0.024742681714718388 0.9153617679033789 var rpc:  0.7441335934385815 24.595504614972857\n",
      "0.7 num:  421317 69135 avg rpc:  0.024742681714718388 0.9153617679033789 var rpc:  0.7441335934385815 24.595504614972857\n",
      "0.8 num:  430876 59576 avg rpc:  0.029572735849757247 1.023329295756681 var rpc:  0.899292103457096 27.22343295911658\n",
      "0.9 num:  437876 52576 avg rpc:  0.03275803655829501 1.1291100547778448 var rpc:  0.9959205135800784 29.833449529857344\n",
      "1 num:  443321 47131 avg rpc:  0.03649386245181255 1.2206308514565773 var rpc:  1.1584006252359351 31.566389810237958\n"
     ]
    }
   ],
   "source": [
    "for i in [0,0.1,0.2,0.3,0.4,0.5,0.6,0.7,0.8,0.9,1]:\n",
    "    low = df[df['semcoop_clicks_l']<=i]['semcoop_rpc_brand_l']\n",
    "    high = df[df['semcoop_clicks_l']>i]['semcoop_rpc_brand_l']\n",
    "    print(i, 'num: ', len(low), len(high), 'avg rpc: ',low.mean(), high.mean(),'var rpc: ',np.var(low), np.var(high))"
   ]
  },
  {
   "cell_type": "code",
   "execution_count": 41,
   "metadata": {},
   "outputs": [
    {
     "data": {
      "text/plain": [
       "47131"
      ]
     },
     "execution_count": 41,
     "metadata": {},
     "output_type": "execute_result"
    }
   ],
   "source": [
    "len(df[df['semcoop_clicks_l']>1])"
   ]
  },
  {
   "cell_type": "code",
   "execution_count": 21,
   "metadata": {},
   "outputs": [
    {
     "data": {
      "text/plain": [
       "<matplotlib.axes._subplots.AxesSubplot at 0x7fccbadbafd0>"
      ]
     },
     "execution_count": 21,
     "metadata": {},
     "output_type": "execute_result"
    },
    {
     "data": {
      "image/png": "[encoded data removed]",
      "text/plain": [
       "<Figure size 432x288 with 1 Axes>"
      ]
     },
     "metadata": {
      "needs_background": "light"
     },
     "output_type": "display_data"
    }
   ],
   "source": [
    "df[(df['semcoop_clicks_l']<200)&(df['total_clicks']>50)&(df['total_clicks']<600)]['total_clicks'].hist()"
   ]
  },
  {
   "cell_type": "code",
   "execution_count": 14,
   "metadata": {},
   "outputs": [
    {
     "data": {
      "text/plain": [
       "1.7092304783997996"
      ]
     },
     "execution_count": 14,
     "metadata": {},
     "output_type": "execute_result"
    }
   ],
   "source": [
    "sum(df['weigted_error'])"
   ]
  },
  {
   "cell_type": "code",
   "execution_count": 51,
   "metadata": {},
   "outputs": [
    {
     "data": {
      "text/plain": [
       "<matplotlib.collections.PathCollection at 0x7f9662e93a58>"
      ]
     },
     "execution_count": 51,
     "metadata": {},
     "output_type": "execute_result"
    },
    {
     "data": {
      "image/png": "[encoded data removed]",
      "text/plain": [
       "<Figure size 432x288 with 1 Axes>"
      ]
     },
     "metadata": {
      "needs_background": "light"
     },
     "output_type": "display_data"
    }
   ],
   "source": [
    "plt.scatter(df['semcoop_clicks_l'], df['weigted_error'])"
   ]
  },
  {
   "cell_type": "code",
   "execution_count": 15,
   "metadata": {},
   "outputs": [
    {
     "data": {
      "text/plain": [
       "0.6857271393533714"
      ]
     },
     "execution_count": 15,
     "metadata": {},
     "output_type": "execute_result"
    }
   ],
   "source": [
    "np.mean(df['norm_error'])"
   ]
  },
  {
   "cell_type": "code",
   "execution_count": 62,
   "metadata": {},
   "outputs": [
    {
     "data": {
      "text/plain": [
       "3.9544929991277935"
      ]
     },
     "execution_count": 62,
     "metadata": {},
     "output_type": "execute_result"
    }
   ],
   "source": [
    "np.mean(df[df['weigted_error']*sum(df['semcoop_clicks_l'])>=2]['norm_error'])"
   ]
  },
  {
   "cell_type": "code",
   "execution_count": 17,
   "metadata": {},
   "outputs": [
    {
     "data": {
      "text/plain": [
       "2.102969275823297"
      ]
     },
     "execution_count": 17,
     "metadata": {},
     "output_type": "execute_result"
    }
   ],
   "source": [
    "np.mean(df[df['semcoop_clicks_l']>=10]['norm_error'])"
   ]
  },
  {
   "cell_type": "code",
   "execution_count": 16,
   "metadata": {},
   "outputs": [
    {
     "data": {
      "text/plain": [
       "count    490306.000000\n",
       "mean          0.795850\n",
       "std           7.459928\n",
       "min           0.000000\n",
       "25%           0.000000\n",
       "50%           0.000000\n",
       "75%           0.285714\n",
       "max        1377.000000\n",
       "Name: semcoop_clicks_l, dtype: float64"
      ]
     },
     "execution_count": 16,
     "metadata": {},
     "output_type": "execute_result"
    }
   ],
   "source": [
    "df['semcoop_clicks_l'].describe()"
   ]
  },
  {
   "cell_type": "code",
   "execution_count": null,
   "metadata": {},
   "outputs": [],
   "source": []
  },
  {
   "cell_type": "code",
   "execution_count": null,
   "metadata": {},
   "outputs": [],
   "source": []
  },
  {
   "cell_type": "code",
   "execution_count": null,
   "metadata": {},
   "outputs": [],
   "source": []
  },
  {
   "cell_type": "code",
   "execution_count": null,
   "metadata": {},
   "outputs": [],
   "source": [
    "what is the crash rate for femails, 30-35, DS, NL, \n",
    "\n",
    "31+dec 0\n",
    "32+dec 0\n",
    "32 Jan 1\n",
    "\n",
    "crash_rate = crashes/people"
   ]
  },
  {
   "cell_type": "code",
   "execution_count": null,
   "metadata": {},
   "outputs": [],
   "source": [
    "1. star wars frizbee - 10 clicks 0 purchase --> label 0 RPC\n",
    "2. frizbees --> 255 clicks --> 2 purchases 10 --> 20/255 --> 0.08\n",
    "3. cheap children's toys --> 100000 c;icks --> 0.1\n",
    "\n",
    "if(item_clicks>250, RPC_SW, if(subcat_clicks>250, subcat_RPC, -999))\n"
   ]
  },
  {
   "cell_type": "code",
   "execution_count": null,
   "metadata": {},
   "outputs": [],
   "source": [
    "100 clicks, 2 purchases, $15 200/100 --> 2"
   ]
  },
  {
   "cell_type": "code",
   "execution_count": 28,
   "metadata": {},
   "outputs": [
    {
     "data": {
      "text/plain": [
       "<matplotlib.axes._subplots.AxesSubplot at 0x7f27900c6ba8>"
      ]
     },
     "execution_count": 28,
     "metadata": {},
     "output_type": "execute_result"
    },
    {
     "data": {
      "image/png": "[encoded data removed]",
      "text/plain": [
       "<Figure size 432x288 with 1 Axes>"
      ]
     },
     "metadata": {
      "needs_background": "light"
     },
     "output_type": "display_data"
    }
   ],
   "source": [
    "aa[aa['semcoop_clicks_l']>1000]['semcoop_rpc_seller_l'].hist(bins = 30)"
   ]
  },
  {
   "cell_type": "code",
   "execution_count": 8,
   "metadata": {},
   "outputs": [
    {
     "data": {
      "text/plain": [
       "<matplotlib.axes._subplots.AxesSubplot at 0x7f2791a07e10>"
      ]
     },
     "execution_count": 8,
     "metadata": {},
     "output_type": "execute_result"
    },
    {
     "data": {
      "image/png": "[encoded data removed]",
      "text/plain": [
       "<Figure size 432x288 with 1 Axes>"
      ]
     },
     "metadata": {
      "needs_background": "light"
     },
     "output_type": "display_data"
    }
   ],
   "source": [
    "aa[aa['semcoop_rpc_seller_l']<10]['semcoop_rpc_seller_l'].hist()"
   ]
  },
  {
   "cell_type": "code",
   "execution_count": 6,
   "metadata": {},
   "outputs": [
    {
     "data": {
      "text/plain": [
       "<matplotlib.axes._subplots.AxesSubplot at 0x7f27ad61f4a8>"
      ]
     },
     "execution_count": 6,
     "metadata": {},
     "output_type": "execute_result"
    },
    {
     "data": {
      "image/png": "[encoded data removed]",
      "text/plain": [
       "<Figure size 432x288 with 1 Axes>"
      ]
     },
     "metadata": {
      "needs_background": "light"
     },
     "output_type": "display_data"
    }
   ],
   "source": [
    "aa[aa['semcoop_rpc_seller_l']<100]['semcoop_rpc_seller_l'].hist()"
   ]
  },
  {
   "cell_type": "code",
   "execution_count": 8,
   "metadata": {},
   "outputs": [
    {
     "ename": "NameError",
     "evalue": "name 'plt' is not defined",
     "output_type": "error",
     "traceback": [
      "\u001b[0;31m---------------------------------------------------------------------------\u001b[0m",
      "\u001b[0;31mNameError\u001b[0m                                 Traceback (most recent call last)",
      "\u001b[0;32m<ipython-input-8-224589d74115>\u001b[0m in \u001b[0;36m<module>\u001b[0;34m\u001b[0m\n\u001b[1;32m      1\u001b[0m \u001b[0maa\u001b[0m\u001b[0;34m[\u001b[0m\u001b[0;34m'semcoop_rpc_seller_l'\u001b[0m\u001b[0;34m]\u001b[0m\u001b[0;34m.\u001b[0m\u001b[0mhist\u001b[0m\u001b[0;34m(\u001b[0m\u001b[0;34m)\u001b[0m\u001b[0;34m\u001b[0m\u001b[0;34m\u001b[0m\u001b[0m\n\u001b[0;32m----> 2\u001b[0;31m \u001b[0mplt\u001b[0m\u001b[0;34m.\u001b[0m\u001b[0mshow\u001b[0m\u001b[0;34m(\u001b[0m\u001b[0;34m)\u001b[0m\u001b[0;34m\u001b[0m\u001b[0;34m\u001b[0m\u001b[0m\n\u001b[0m",
      "\u001b[0;31mNameError\u001b[0m: name 'plt' is not defined"
     ]
    },
    {
     "data": {
      "image/png": "[encoded data removed]",
      "text/plain": [
       "<Figure size 432x288 with 1 Axes>"
      ]
     },
     "metadata": {
      "needs_background": "light"
     },
     "output_type": "display_data"
    }
   ],
   "source": [
    "aa['semcoop_rpc_seller_l'].hist()\n",
    "plt.show()"
   ]
  },
  {
   "cell_type": "code",
   "execution_count": null,
   "metadata": {},
   "outputs": [],
   "source": []
  },
  {
   "cell_type": "code",
   "execution_count": null,
   "metadata": {},
   "outputs": [],
   "source": []
  },
  {
   "cell_type": "code",
   "execution_count": null,
   "metadata": {},
   "outputs": [],
   "source": []
  },
  {
   "cell_type": "code",
   "execution_count": null,
   "metadata": {},
   "outputs": [],
   "source": []
  },
  {
   "cell_type": "code",
   "execution_count": null,
   "metadata": {},
   "outputs": [],
   "source": []
  },
  {
   "cell_type": "code",
   "execution_count": null,
   "metadata": {},
   "outputs": [],
   "source": []
  },
  {
   "cell_type": "code",
   "execution_count": 1,
   "metadata": {},
   "outputs": [],
   "source": [
    "import pyspark\n",
    "from pyspark.sql.functions import lit\n",
    "from pyspark.sql import functions as func\n",
    "import pyspark.sql as pss\n",
    "from pyspark.sql.functions import col\n",
    "from pyspark.sql import types as t\n",
    "from pyspark.sql.types import (\n",
    "    StringType,\n",
    "    MapType,\n",
    "    LongType,\n",
    "    DoubleType,\n",
    "    FloatType,\n",
    "    StructField,\n",
    "    StructType,\n",
    "    IntegerType,\n",
    "    ArrayType\n",
    ")\n",
    "#spark = pss.SparkSession.builder.appName(\"dctr_test3\").config(conf=pyspark.SparkConf().setAll([('spark.yarn.queue', 'root.critical')])).enableHiveSupport().getOrCreate()\n",
    "def gen_spark_session(ds):\n",
    "    ds_nodash = ds.replace(\"-\", \"\")\n",
    "\n",
    "    return pyspark.sql.SparkSession.builder.config(\n",
    "            \"hive.exec.dynamic.partition\", True,\n",
    "        ).config(\n",
    "            \"hive.exec.dynamic.partition.mode\", \"nonstrict\"\n",
    "        ).config('mapreduce.input.fileinputformat.input.dir.recursive',True\n",
    "        ).config('spark.hive.mapred.supports.subdirectories',True\n",
    "        ).config(\"spark.sql.crossJoin.enabled\", \"true\"\n",
    "        ).config(\"spark.sql.broadcastTimeout\", \"36000\"\n",
    "        ).config(\"spark.sql.sources.partitionOverwriteMode\",\"dynamic\"\n",
    "        ).config(\"spark.hadoop.orc.overwrite.output.file\",True\n",
    "        ).config(\"spark.yarn.executor.memoryOverhead\", '20g'\n",
    "        ).config(\"spark.executor.memory\",'12g'\n",
    "        ).config(\"spark.driver.memory\",'12g'\n",
    "        ).config(\"spark.dynamicAllocation.enabled\",'true'\n",
    "        ).config(\"spark.sql.legacy.allowCreatingManagedTableUsingNonemptyLocation\",'true'\n",
    "        ).config(\"spark.sql.hive.convertMetastoreOrc\", 'false'\n",
    "        ).appName(APP_NAME % ds_nodash).enableHiveSupport().getOrCreate()\n",
    "\n",
    "\n",
    "APP_NAME = 'rpc_feature_extractionjupyter_%s'\n",
    "spark = gen_spark_session('2022-12/7')\n",
    "spark.sparkContext.setLogLevel(\"ERROR\")\n",
    "\n",
    "# spark.conf.set(\"spark.sql.autoBroadcastJoinThreshold\", 10000000)"
   ]
  },
  {
   "cell_type": "code",
   "execution_count": 2,
   "metadata": {},
   "outputs": [],
   "source": [
    "from sklearn.model_selection import KFold\n",
    "import pandas as pd\n",
    "import os"
   ]
  },
  {
   "cell_type": "code",
   "execution_count": 3,
   "metadata": {},
   "outputs": [],
   "source": [
    "os.chdir('/home/mds_backfill/rpc_feature_extraction/rpc_model/')"
   ]
  },
  {
   "cell_type": "code",
   "execution_count": 4,
   "metadata": {},
   "outputs": [
    {
     "name": "stderr",
     "output_type": "stream",
     "text": [
      "/opt/conda/anaconda/lib/python3.6/site-packages/distributed/config.py:63: YAMLLoadWarning: calling yaml.load() without Loader=... is deprecated, as the default Loader is unsafe. Please read https://msg.pyyaml.org/load for full details.\n",
      "  config.update(yaml.load(text) or {})\n"
     ]
    }
   ],
   "source": [
    "from __future__ import absolute_import\n",
    "\n",
    "from pyspark.sql import functions as func\n",
    "from pyspark import SparkConf, SparkContext\n",
    "from pyspark.sql import HiveContext, SparkSession\n",
    "from pyspark.sql.functions import col, struct, to_json, udf, expr\n",
    "from pyspark.sql.window import Window\n",
    "from pyspark.sql.types import *\n",
    "\n",
    "import argparse\n",
    "from multiprocessing import Pool\n",
    "import sys, os, json, shutil, glob, warnings, gc, random, collections, csv, re, logging, time, pickle\n",
    "from pathlib import Path\n",
    "from datetime import datetime\n",
    "from google.cloud import storage\n",
    "\n",
    "import pandas as pd\n",
    "import numpy as np\n",
    "import lightgbm as lgb\n",
    "\n",
    "from sklearn.model_selection import KFold\n",
    "from sklearn.feature_extraction.text import TfidfVectorizer\n",
    "from sklearn.decomposition import TruncatedSVD\n",
    "\n",
    "from utils.utils import (reduce_mem_usage, \n",
    "                         extract_gcs_path, \n",
    "                         extract_gcs_files, \n",
    "                         create_gcp_directory, \n",
    "                         upload_local_to_cloud_storage, \n",
    "                         download_from_cloud_storage, \n",
    "                         load_json,\n",
    "                         convert_numeric\n",
    "                         )\n"
   ]
  },
  {
   "cell_type": "code",
   "execution_count": 8,
   "metadata": {},
   "outputs": [],
   "source": [
    "parser = argparse.ArgumentParser(description=\"SEM rpc prediction model building pipeline.\")\n",
    "parser.add_argument(\"--mode\", type=str, help=\"Pipeline mode: train, train-5fold, score, score-5fold\")\n",
    "parser.add_argument(\"--model_type\", type=str, help=\"Model type: convrt, ordersize or all\")\n",
    "parser.add_argument(\"--train_path\", type=str, default=\"\", help=\"GCS paths to training data\")\n",
    "parser.add_argument(\"--score_path\", type=str, default=\"\", help=\"GCS paths to scoring data\")\n",
    "parser.add_argument(\"--train_output_path\", type=str, default=\"./output\", help=\"GCS location to write train related output data\")\n",
    "parser.add_argument(\"--score_output_path\", type=str, default=\"./output\", help=\"GCS location to write score related output data\")\n",
    "parser.add_argument(\"--local_path\", type=str, default=\"./output\", help=\"Local location to write output data\")\n",
    "parser.add_argument(\"--log_filename\", type=str, default=\"logfile\", help=\"log file name\")\n",
    "parser.add_argument(\"--data_config\", type=str, default=\"./yp_config.json\", help=\"location of data config json file\")\n",
    "parser.add_argument(\"--flag_text_features\", type=int, default=0, help=\"Add text features or not.\")\n",
    "parser.add_argument(\"--flag_train_text_transformer\", type=int, default=0, help=\"Flag train text transfomer or not.\")\n",
    "parser.add_argument(\"--text_feature_file\", type=str, default=\"text_feature.csv\", help=\"text features file name\")\n",
    "parser.add_argument(\"--flag_check_train_success\", type=bool, default=False, help=\"Flag for check train success or not.\")\n",
    "parser.add_argument(\"--flag_train_success\", type=bool, default=True, help=\"Flag for train success or not\")\n",
    "parser.add_argument(\"--ordersize_success_path\", type=str, default=\"\", help=\"Ordersize success mark path\")\n",
    "parser.add_argument(\"--convrt_success_path\", type=str, default=\"\", help=\"Convrt success mark path\")\n",
    "parser.add_argument(\"--ref_date\", type=str, default=\"\", help=\"reference date\")\n",
    "args, _ = parser.parse_known_args()\n",
    "\n",
    "args.log_filename = datetime.now().strftime(f'{args.log_filename}_%H_%M_%d_%m_%Y.log') \n",
    "logging.basicConfig(filename=f'{args.local_path}/{args.log_filename}', \n",
    "                    format='%(asctime)s %(levelname)-8s %(message)s',\n",
    "                    level=logging.INFO,\n",
    "                    datefmt='%Y-%m-%d %H:%M:%S')\n",
    "logging.getLogger('numexpr').setLevel(logging.WARNING)\n",
    "channel = logging.StreamHandler(sys.stdout)\n",
    "sys.stdout = open(f'{args.local_path}/{args.log_filename}', 'a', 1)\n",
    "channel.setLevel(logging.INFO)\n",
    "root = logging.getLogger()\n",
    "root.setLevel(logging.INFO)\n",
    "root.addHandler(channel)\n",
    "\n",
    "args.model_type = 'all'\n",
    "args.mode = 'train'"
   ]
  },
  {
   "cell_type": "code",
   "execution_count": 10,
   "metadata": {},
   "outputs": [
    {
     "data": {
      "text/plain": [
       "'/home/mds_backfill/rpc_feature_extraction/rpc_model'"
      ]
     },
     "execution_count": 10,
     "metadata": {},
     "output_type": "execute_result"
    }
   ],
   "source": [
    "os.getcwd()"
   ]
  },
  {
   "cell_type": "code",
   "execution_count": 5,
   "metadata": {},
   "outputs": [
    {
     "name": "stderr",
     "output_type": "stream",
     "text": [
      "/opt/conda/anaconda/lib/python3.6/site-packages/IPython/core/interactiveshell.py:3072: DtypeWarning: Columns (251) have mixed types. Specify dtype option on import or set low_memory=False.\n",
      "  interactivity=interactivity, compiler=compiler, result=result)\n"
     ]
    }
   ],
   "source": [
    "cc = pd.read_csv('sample_data_full_feat/df_feat_all_coop_offer_2022-11-20.csv')"
   ]
  },
  {
   "cell_type": "code",
   "execution_count": 6,
   "metadata": {},
   "outputs": [
    {
     "data": {
      "text/html": [
       "<div>\n",
       "<style scoped>\n",
       "    .dataframe tbody tr th:only-of-type {\n",
       "        vertical-align: middle;\n",
       "    }\n",
       "\n",
       "    .dataframe tbody tr th {\n",
       "        vertical-align: top;\n",
       "    }\n",
       "\n",
       "    .dataframe thead th {\n",
       "        text-align: right;\n",
       "    }\n",
       "</style>\n",
       "<table border=\"1\" class=\"dataframe\">\n",
       "  <thead>\n",
       "    <tr style=\"text-align: right;\">\n",
       "      <th></th>\n",
       "      <th>Unnamed: 0</th>\n",
       "      <th>catalog_item_id</th>\n",
       "      <th>seller_id</th>\n",
       "      <th>adid</th>\n",
       "      <th>source_id</th>\n",
       "      <th>is_mobile</th>\n",
       "      <th>sem_impressions_l</th>\n",
       "      <th>sem_clicks_l</th>\n",
       "      <th>sem_adspend_l</th>\n",
       "      <th>sem_qty_l</th>\n",
       "      <th>...</th>\n",
       "      <th>bc_sem_bounce_rate_w1</th>\n",
       "      <th>bc_sem_bounces_w1</th>\n",
       "      <th>bc_visits_w1</th>\n",
       "      <th>bc_sem_visits_w1</th>\n",
       "      <th>bc_bounce_rate_w2</th>\n",
       "      <th>bc_bounces_w2</th>\n",
       "      <th>bc_sem_bounce_rate_w2</th>\n",
       "      <th>bc_sem_bounces_w2</th>\n",
       "      <th>bc_visits_w2</th>\n",
       "      <th>bc_sem_visits_w2</th>\n",
       "    </tr>\n",
       "  </thead>\n",
       "  <tbody>\n",
       "    <tr>\n",
       "      <th>0</th>\n",
       "      <td>0</td>\n",
       "      <td>100029416</td>\n",
       "      <td>101085375</td>\n",
       "      <td>100029416_101085375_150499295748_18500529502</td>\n",
       "      <td>2</td>\n",
       "      <td>0</td>\n",
       "      <td>NaN</td>\n",
       "      <td>NaN</td>\n",
       "      <td>NaN</td>\n",
       "      <td>NaN</td>\n",
       "      <td>...</td>\n",
       "      <td>NaN</td>\n",
       "      <td>0.0</td>\n",
       "      <td>3.0</td>\n",
       "      <td>0.0</td>\n",
       "      <td>0.333333</td>\n",
       "      <td>5.0</td>\n",
       "      <td>NaN</td>\n",
       "      <td>0.0</td>\n",
       "      <td>15.0</td>\n",
       "      <td>0.0</td>\n",
       "    </tr>\n",
       "    <tr>\n",
       "      <th>1</th>\n",
       "      <td>1</td>\n",
       "      <td>1000438425</td>\n",
       "      <td>101197600</td>\n",
       "      <td>1000438425_141830104220_18285736203</td>\n",
       "      <td>2</td>\n",
       "      <td>0</td>\n",
       "      <td>NaN</td>\n",
       "      <td>NaN</td>\n",
       "      <td>NaN</td>\n",
       "      <td>NaN</td>\n",
       "      <td>...</td>\n",
       "      <td>NaN</td>\n",
       "      <td>NaN</td>\n",
       "      <td>NaN</td>\n",
       "      <td>NaN</td>\n",
       "      <td>NaN</td>\n",
       "      <td>NaN</td>\n",
       "      <td>NaN</td>\n",
       "      <td>NaN</td>\n",
       "      <td>NaN</td>\n",
       "      <td>NaN</td>\n",
       "    </tr>\n",
       "    <tr>\n",
       "      <th>2</th>\n",
       "      <td>2</td>\n",
       "      <td>1000625770</td>\n",
       "      <td>16214</td>\n",
       "      <td>1000625770_16214_140940758340_18064667719</td>\n",
       "      <td>2</td>\n",
       "      <td>1</td>\n",
       "      <td>NaN</td>\n",
       "      <td>NaN</td>\n",
       "      <td>NaN</td>\n",
       "      <td>NaN</td>\n",
       "      <td>...</td>\n",
       "      <td>NaN</td>\n",
       "      <td>NaN</td>\n",
       "      <td>NaN</td>\n",
       "      <td>NaN</td>\n",
       "      <td>NaN</td>\n",
       "      <td>NaN</td>\n",
       "      <td>NaN</td>\n",
       "      <td>NaN</td>\n",
       "      <td>NaN</td>\n",
       "      <td>NaN</td>\n",
       "    </tr>\n",
       "    <tr>\n",
       "      <th>3</th>\n",
       "      <td>3</td>\n",
       "      <td>1000641068</td>\n",
       "      <td>101137322</td>\n",
       "      <td>1000641068_101137322_140940758340_18064667719</td>\n",
       "      <td>2</td>\n",
       "      <td>0</td>\n",
       "      <td>NaN</td>\n",
       "      <td>NaN</td>\n",
       "      <td>NaN</td>\n",
       "      <td>NaN</td>\n",
       "      <td>...</td>\n",
       "      <td>NaN</td>\n",
       "      <td>NaN</td>\n",
       "      <td>NaN</td>\n",
       "      <td>NaN</td>\n",
       "      <td>NaN</td>\n",
       "      <td>NaN</td>\n",
       "      <td>NaN</td>\n",
       "      <td>NaN</td>\n",
       "      <td>NaN</td>\n",
       "      <td>NaN</td>\n",
       "    </tr>\n",
       "    <tr>\n",
       "      <th>4</th>\n",
       "      <td>4</td>\n",
       "      <td>1000956959</td>\n",
       "      <td>101126726</td>\n",
       "      <td>1000956959_144893864830_18291203882</td>\n",
       "      <td>2</td>\n",
       "      <td>1</td>\n",
       "      <td>NaN</td>\n",
       "      <td>NaN</td>\n",
       "      <td>NaN</td>\n",
       "      <td>NaN</td>\n",
       "      <td>...</td>\n",
       "      <td>NaN</td>\n",
       "      <td>NaN</td>\n",
       "      <td>NaN</td>\n",
       "      <td>NaN</td>\n",
       "      <td>NaN</td>\n",
       "      <td>NaN</td>\n",
       "      <td>NaN</td>\n",
       "      <td>NaN</td>\n",
       "      <td>NaN</td>\n",
       "      <td>NaN</td>\n",
       "    </tr>\n",
       "  </tbody>\n",
       "</table>\n",
       "<p>5 rows × 285 columns</p>\n",
       "</div>"
      ],
      "text/plain": [
       "   Unnamed: 0  catalog_item_id  seller_id  \\\n",
       "0           0        100029416  101085375   \n",
       "1           1       1000438425  101197600   \n",
       "2           2       1000625770      16214   \n",
       "3           3       1000641068  101137322   \n",
       "4           4       1000956959  101126726   \n",
       "\n",
       "                                            adid  source_id  is_mobile  \\\n",
       "0   100029416_101085375_150499295748_18500529502          2          0   \n",
       "1            1000438425_141830104220_18285736203          2          0   \n",
       "2      1000625770_16214_140940758340_18064667719          2          1   \n",
       "3  1000641068_101137322_140940758340_18064667719          2          0   \n",
       "4            1000956959_144893864830_18291203882          2          1   \n",
       "\n",
       "   sem_impressions_l  sem_clicks_l  sem_adspend_l  sem_qty_l  ...  \\\n",
       "0                NaN           NaN            NaN        NaN  ...   \n",
       "1                NaN           NaN            NaN        NaN  ...   \n",
       "2                NaN           NaN            NaN        NaN  ...   \n",
       "3                NaN           NaN            NaN        NaN  ...   \n",
       "4                NaN           NaN            NaN        NaN  ...   \n",
       "\n",
       "   bc_sem_bounce_rate_w1  bc_sem_bounces_w1  bc_visits_w1  bc_sem_visits_w1  \\\n",
       "0                    NaN                0.0           3.0               0.0   \n",
       "1                    NaN                NaN           NaN               NaN   \n",
       "2                    NaN                NaN           NaN               NaN   \n",
       "3                    NaN                NaN           NaN               NaN   \n",
       "4                    NaN                NaN           NaN               NaN   \n",
       "\n",
       "   bc_bounce_rate_w2  bc_bounces_w2  bc_sem_bounce_rate_w2  bc_sem_bounces_w2  \\\n",
       "0           0.333333            5.0                    NaN                0.0   \n",
       "1                NaN            NaN                    NaN                NaN   \n",
       "2                NaN            NaN                    NaN                NaN   \n",
       "3                NaN            NaN                    NaN                NaN   \n",
       "4                NaN            NaN                    NaN                NaN   \n",
       "\n",
       "   bc_visits_w2  bc_sem_visits_w2  \n",
       "0          15.0               0.0  \n",
       "1           NaN               NaN  \n",
       "2           NaN               NaN  \n",
       "3           NaN               NaN  \n",
       "4           NaN               NaN  \n",
       "\n",
       "[5 rows x 285 columns]"
      ]
     },
     "execution_count": 6,
     "metadata": {},
     "output_type": "execute_result"
    }
   ],
   "source": [
    "cc.head()"
   ]
  },
  {
   "cell_type": "code",
   "execution_count": 11,
   "metadata": {},
   "outputs": [
    {
     "data": {
      "text/html": [
       "<div>\n",
       "<style scoped>\n",
       "    .dataframe tbody tr th:only-of-type {\n",
       "        vertical-align: middle;\n",
       "    }\n",
       "\n",
       "    .dataframe tbody tr th {\n",
       "        vertical-align: top;\n",
       "    }\n",
       "\n",
       "    .dataframe thead th {\n",
       "        text-align: right;\n",
       "    }\n",
       "</style>\n",
       "<table border=\"1\" class=\"dataframe\">\n",
       "  <thead>\n",
       "    <tr style=\"text-align: right;\">\n",
       "      <th></th>\n",
       "      <th>adid</th>\n",
       "      <th>uber_division_w1</th>\n",
       "      <th>uber_super_dept_w1</th>\n",
       "      <th>uber_dept_w1</th>\n",
       "      <th>uber_cat_w1</th>\n",
       "      <th>uber_subcat_w1</th>\n",
       "      <th>uber_curr_item_price_w1</th>\n",
       "      <th>uber_num_appr_reviews_w1</th>\n",
       "      <th>uber_avg_overall_rating_w1</th>\n",
       "      <th>uber_price_change_ratio_w1</th>\n",
       "      <th>uber_price_change_value_w1</th>\n",
       "      <th>uber_avg_margin_w1</th>\n",
       "    </tr>\n",
       "  </thead>\n",
       "  <tbody>\n",
       "    <tr>\n",
       "      <th>0</th>\n",
       "      <td>100029416_101085375_150499295748_18500529502</td>\n",
       "      <td>ENTERTAINMENT TOYS AND SEASONAL</td>\n",
       "      <td>07 TOYS</td>\n",
       "      <td>ACTION FIGURES AND CONSTRUCTION</td>\n",
       "      <td>TOY CONSTRUCTION</td>\n",
       "      <td>LEGO CORE</td>\n",
       "      <td>11.95</td>\n",
       "      <td>0.0</td>\n",
       "      <td>5.0</td>\n",
       "      <td>1.0</td>\n",
       "      <td>-1.776357e-15</td>\n",
       "      <td>11.95</td>\n",
       "    </tr>\n",
       "    <tr>\n",
       "      <th>1</th>\n",
       "      <td>1000438425_141830104220_18285736203</td>\n",
       "      <td>HOME</td>\n",
       "      <td>17 HOME DECOR</td>\n",
       "      <td>WALL ART AND MIRRORS</td>\n",
       "      <td>WALL ART</td>\n",
       "      <td>CANVAS ART AND PAINTINGS</td>\n",
       "      <td>24.9</td>\n",
       "      <td>0.0</td>\n",
       "      <td>\\N</td>\n",
       "      <td>1.0</td>\n",
       "      <td>-3.552714e-15</td>\n",
       "      <td>24.90</td>\n",
       "    </tr>\n",
       "    <tr>\n",
       "      <th>2</th>\n",
       "      <td>1000625770_16214_140940758340_18064667719</td>\n",
       "      <td>ENTERTAINMENT TOYS AND SEASONAL</td>\n",
       "      <td>67 CELEBRATION</td>\n",
       "      <td>PARTY SUPPLY</td>\n",
       "      <td>PARTY FAVORS</td>\n",
       "      <td>PARTY WEARABLES</td>\n",
       "      <td>5.99</td>\n",
       "      <td>0.0</td>\n",
       "      <td>\\N</td>\n",
       "      <td>1.0</td>\n",
       "      <td>-8.881784e-16</td>\n",
       "      <td>5.99</td>\n",
       "    </tr>\n",
       "    <tr>\n",
       "      <th>3</th>\n",
       "      <td>1000641068_101137322_140940758340_18064667719</td>\n",
       "      <td>HARDLINES</td>\n",
       "      <td>11 HARDWARE AND TOOLS</td>\n",
       "      <td>AIR AND WATER</td>\n",
       "      <td>AIR PURIFICATION</td>\n",
       "      <td>AIR PURIFIERS</td>\n",
       "      <td>5.49</td>\n",
       "      <td>0.0</td>\n",
       "      <td>\\N</td>\n",
       "      <td>1.0</td>\n",
       "      <td>-8.881784e-16</td>\n",
       "      <td>5.49</td>\n",
       "    </tr>\n",
       "    <tr>\n",
       "      <th>4</th>\n",
       "      <td>1000956959_144893864830_18291203882</td>\n",
       "      <td>ENTERTAINMENT TOYS AND SEASONAL</td>\n",
       "      <td>72 ELECTRONICS</td>\n",
       "      <td>COMPUTING</td>\n",
       "      <td>COMPUTING MISC</td>\n",
       "      <td>COMPUTER MISC</td>\n",
       "      <td>36.57</td>\n",
       "      <td>0.0</td>\n",
       "      <td>1.0</td>\n",
       "      <td>1.0</td>\n",
       "      <td>0.000000e+00</td>\n",
       "      <td>36.57</td>\n",
       "    </tr>\n",
       "    <tr>\n",
       "      <th>...</th>\n",
       "      <td>...</td>\n",
       "      <td>...</td>\n",
       "      <td>...</td>\n",
       "      <td>...</td>\n",
       "      <td>...</td>\n",
       "      <td>...</td>\n",
       "      <td>...</td>\n",
       "      <td>...</td>\n",
       "      <td>...</td>\n",
       "      <td>...</td>\n",
       "      <td>...</td>\n",
       "      <td>...</td>\n",
       "    </tr>\n",
       "    <tr>\n",
       "      <th>2305401</th>\n",
       "      <td>999309119_144893864830_18291203882</td>\n",
       "      <td>ENTERTAINMENT TOYS AND SEASONAL</td>\n",
       "      <td>72 ELECTRONICS</td>\n",
       "      <td>AUDIO</td>\n",
       "      <td>HEADPHONES L3</td>\n",
       "      <td>HEADPHONES ACCESSORIES</td>\n",
       "      <td>12.99</td>\n",
       "      <td>0.0</td>\n",
       "      <td>\\N</td>\n",
       "      <td>1.0</td>\n",
       "      <td>0.000000e+00</td>\n",
       "      <td>12.99</td>\n",
       "    </tr>\n",
       "    <tr>\n",
       "      <th>2305402</th>\n",
       "      <td>999379266_18988_141074770957_18285736992</td>\n",
       "      <td>ENTERTAINMENT TOYS AND SEASONAL</td>\n",
       "      <td>72 ELECTRONICS</td>\n",
       "      <td>NETWORKING AND CONNECTIVITY</td>\n",
       "      <td>ANTENNAS AND TELEPHONES</td>\n",
       "      <td>CONVERTER BOXES</td>\n",
       "      <td>17.51</td>\n",
       "      <td>0.0</td>\n",
       "      <td>\\N</td>\n",
       "      <td>1.0</td>\n",
       "      <td>0.000000e+00</td>\n",
       "      <td>17.51</td>\n",
       "    </tr>\n",
       "    <tr>\n",
       "      <th>2305403</th>\n",
       "      <td>999652047_141794022202_18063591543</td>\n",
       "      <td>HOME</td>\n",
       "      <td>22 BEDDING</td>\n",
       "      <td>22 SEASONAL TEXTILES</td>\n",
       "      <td>THROW BLANKETS</td>\n",
       "      <td>THROW BLANKETS PROMO</td>\n",
       "      <td>20.99</td>\n",
       "      <td>0.0</td>\n",
       "      <td>\\N</td>\n",
       "      <td>1.0</td>\n",
       "      <td>0.000000e+00</td>\n",
       "      <td>20.99</td>\n",
       "    </tr>\n",
       "    <tr>\n",
       "      <th>2305404</th>\n",
       "      <td>999681052_14620_132414363530_17378415341</td>\n",
       "      <td>APPAREL</td>\n",
       "      <td>25 SHOES</td>\n",
       "      <td>MENS SHOES ECOMM</td>\n",
       "      <td>BOOTS ECOMM MENS</td>\n",
       "      <td>MP CASUAL BOOTS MENS</td>\n",
       "      <td>49.99</td>\n",
       "      <td>0.0</td>\n",
       "      <td>\\N</td>\n",
       "      <td>1.0</td>\n",
       "      <td>0.000000e+00</td>\n",
       "      <td>49.99</td>\n",
       "    </tr>\n",
       "    <tr>\n",
       "      <th>2305405</th>\n",
       "      <td>999966095_101051255_146310077887_18634518622</td>\n",
       "      <td>NaN</td>\n",
       "      <td>NaN</td>\n",
       "      <td>NaN</td>\n",
       "      <td>NaN</td>\n",
       "      <td>NaN</td>\n",
       "      <td>NaN</td>\n",
       "      <td>NaN</td>\n",
       "      <td>NaN</td>\n",
       "      <td>NaN</td>\n",
       "      <td>NaN</td>\n",
       "      <td>NaN</td>\n",
       "    </tr>\n",
       "  </tbody>\n",
       "</table>\n",
       "<p>2305406 rows × 12 columns</p>\n",
       "</div>"
      ],
      "text/plain": [
       "                                                  adid  \\\n",
       "0         100029416_101085375_150499295748_18500529502   \n",
       "1                  1000438425_141830104220_18285736203   \n",
       "2            1000625770_16214_140940758340_18064667719   \n",
       "3        1000641068_101137322_140940758340_18064667719   \n",
       "4                  1000956959_144893864830_18291203882   \n",
       "...                                                ...   \n",
       "2305401             999309119_144893864830_18291203882   \n",
       "2305402       999379266_18988_141074770957_18285736992   \n",
       "2305403             999652047_141794022202_18063591543   \n",
       "2305404       999681052_14620_132414363530_17378415341   \n",
       "2305405   999966095_101051255_146310077887_18634518622   \n",
       "\n",
       "                        uber_division_w1     uber_super_dept_w1  \\\n",
       "0        ENTERTAINMENT TOYS AND SEASONAL                07 TOYS   \n",
       "1                                   HOME          17 HOME DECOR   \n",
       "2        ENTERTAINMENT TOYS AND SEASONAL         67 CELEBRATION   \n",
       "3                              HARDLINES  11 HARDWARE AND TOOLS   \n",
       "4        ENTERTAINMENT TOYS AND SEASONAL         72 ELECTRONICS   \n",
       "...                                  ...                    ...   \n",
       "2305401  ENTERTAINMENT TOYS AND SEASONAL         72 ELECTRONICS   \n",
       "2305402  ENTERTAINMENT TOYS AND SEASONAL         72 ELECTRONICS   \n",
       "2305403                             HOME             22 BEDDING   \n",
       "2305404                          APPAREL               25 SHOES   \n",
       "2305405                              NaN                    NaN   \n",
       "\n",
       "                            uber_dept_w1              uber_cat_w1  \\\n",
       "0        ACTION FIGURES AND CONSTRUCTION         TOY CONSTRUCTION   \n",
       "1                   WALL ART AND MIRRORS                 WALL ART   \n",
       "2                           PARTY SUPPLY             PARTY FAVORS   \n",
       "3                          AIR AND WATER         AIR PURIFICATION   \n",
       "4                              COMPUTING           COMPUTING MISC   \n",
       "...                                  ...                      ...   \n",
       "2305401                            AUDIO            HEADPHONES L3   \n",
       "2305402      NETWORKING AND CONNECTIVITY  ANTENNAS AND TELEPHONES   \n",
       "2305403             22 SEASONAL TEXTILES           THROW BLANKETS   \n",
       "2305404                 MENS SHOES ECOMM         BOOTS ECOMM MENS   \n",
       "2305405                              NaN                      NaN   \n",
       "\n",
       "                   uber_subcat_w1 uber_curr_item_price_w1  \\\n",
       "0                       LEGO CORE                   11.95   \n",
       "1        CANVAS ART AND PAINTINGS                    24.9   \n",
       "2                 PARTY WEARABLES                    5.99   \n",
       "3                   AIR PURIFIERS                    5.49   \n",
       "4                   COMPUTER MISC                   36.57   \n",
       "...                           ...                     ...   \n",
       "2305401    HEADPHONES ACCESSORIES                   12.99   \n",
       "2305402           CONVERTER BOXES                   17.51   \n",
       "2305403      THROW BLANKETS PROMO                   20.99   \n",
       "2305404      MP CASUAL BOOTS MENS                   49.99   \n",
       "2305405                       NaN                     NaN   \n",
       "\n",
       "         uber_num_appr_reviews_w1 uber_avg_overall_rating_w1  \\\n",
       "0                             0.0                        5.0   \n",
       "1                             0.0                         \\N   \n",
       "2                             0.0                         \\N   \n",
       "3                             0.0                         \\N   \n",
       "4                             0.0                        1.0   \n",
       "...                           ...                        ...   \n",
       "2305401                       0.0                         \\N   \n",
       "2305402                       0.0                         \\N   \n",
       "2305403                       0.0                         \\N   \n",
       "2305404                       0.0                         \\N   \n",
       "2305405                       NaN                        NaN   \n",
       "\n",
       "         uber_price_change_ratio_w1  uber_price_change_value_w1  \\\n",
       "0                               1.0               -1.776357e-15   \n",
       "1                               1.0               -3.552714e-15   \n",
       "2                               1.0               -8.881784e-16   \n",
       "3                               1.0               -8.881784e-16   \n",
       "4                               1.0                0.000000e+00   \n",
       "...                             ...                         ...   \n",
       "2305401                         1.0                0.000000e+00   \n",
       "2305402                         1.0                0.000000e+00   \n",
       "2305403                         1.0                0.000000e+00   \n",
       "2305404                         1.0                0.000000e+00   \n",
       "2305405                         NaN                         NaN   \n",
       "\n",
       "         uber_avg_margin_w1  \n",
       "0                     11.95  \n",
       "1                     24.90  \n",
       "2                      5.99  \n",
       "3                      5.49  \n",
       "4                     36.57  \n",
       "...                     ...  \n",
       "2305401               12.99  \n",
       "2305402               17.51  \n",
       "2305403               20.99  \n",
       "2305404               49.99  \n",
       "2305405                 NaN  \n",
       "\n",
       "[2305406 rows x 12 columns]"
      ]
     },
     "execution_count": 11,
     "metadata": {},
     "output_type": "execute_result"
    }
   ],
   "source": [
    "cc[['adid']+[i for i in cc.columns if 'uber' in i]]"
   ]
  },
  {
   "cell_type": "code",
   "execution_count": 12,
   "metadata": {},
   "outputs": [
    {
     "name": "stdout",
     "output_type": "stream",
     "text": [
      "+----+-----------+---------------+-------------------+-------------+-----------+\n",
      "|adid|division_id|sub_category_id|super_department_id|department_id|category_id|\n",
      "+----+-----------+---------------+-------------------+-------------+-----------+\n",
      "+----+-----------+---------------+-------------------+-------------+-----------+\n",
      "\n"
     ]
    }
   ],
   "source": [
    "spark.sql(\"\"\"SELECT adid, last(division_id) as division_id,\n",
    "                                        last(sub_category_id) as sub_category_id, last(super_department_id) as super_department_id,\n",
    "                                        last(department_id) as department_id, last(category_id) as category_id\n",
    "                                        FROM sem.daily_adid_rh_metrics_v2 \n",
    "                                        WHERE customer_id_p=1\n",
    "                                        and adid = '999966095_101051255_146310077887_18634518622'\n",
    "                                        AND structure_version_p = 2\n",
    "                                        AND revenue_source_p = 'fair15'\n",
    "                                        AND date_string >= '2022-11-01'\n",
    "                                        AND date_string <= '2022-11-20'\n",
    "                                        GROUP BY adid\"\"\").show()"
   ]
  },
  {
   "cell_type": "code",
   "execution_count": null,
   "metadata": {},
   "outputs": [],
   "source": []
  },
  {
   "cell_type": "code",
   "execution_count": null,
   "metadata": {},
   "outputs": [],
   "source": []
  },
  {
   "cell_type": "code",
   "execution_count": null,
   "metadata": {},
   "outputs": [],
   "source": []
  },
  {
   "cell_type": "code",
   "execution_count": null,
   "metadata": {},
   "outputs": [],
   "source": []
  },
  {
   "cell_type": "code",
   "execution_count": null,
   "metadata": {},
   "outputs": [],
   "source": []
  },
  {
   "cell_type": "code",
   "execution_count": null,
   "metadata": {},
   "outputs": [],
   "source": []
  },
  {
   "cell_type": "code",
   "execution_count": null,
   "metadata": {},
   "outputs": [],
   "source": []
  },
  {
   "cell_type": "code",
   "execution_count": null,
   "metadata": {},
   "outputs": [],
   "source": []
  },
  {
   "cell_type": "code",
   "execution_count": null,
   "metadata": {},
   "outputs": [],
   "source": []
  },
  {
   "cell_type": "code",
   "execution_count": 6,
   "metadata": {},
   "outputs": [],
   "source": [
    "pd.set_option('max_rows',500)"
   ]
  },
  {
   "cell_type": "code",
   "execution_count": 7,
   "metadata": {},
   "outputs": [
    {
     "data": {
      "text/plain": [
       "'/home/mds_backfill/rpc_feature_extraction/rpc_model'"
      ]
     },
     "execution_count": 7,
     "metadata": {},
     "output_type": "execute_result"
    }
   ],
   "source": [
    "os.getcwd()"
   ]
  },
  {
   "cell_type": "code",
   "execution_count": 4,
   "metadata": {},
   "outputs": [
    {
     "name": "stderr",
     "output_type": "stream",
     "text": [
      "/opt/conda/anaconda/lib/python3.6/site-packages/IPython/core/interactiveshell.py:3072: DtypeWarning: Columns (251) have mixed types. Specify dtype option on import or set low_memory=False.\n",
      "  interactivity=interactivity, compiler=compiler, result=result)\n",
      "/home/mds_backfill/.local/lib/python3.6/site-packages/numpy/lib/arraysetops.py:580: FutureWarning: elementwise comparison failed; returning scalar instead, but in the future will perform elementwise comparison\n",
      "  mask |= (ar1 == a)\n"
     ]
    }
   ],
   "source": [
    "df_origin = pd.read_csv('sample_data_full_feat/df_feat_all_coop_item_2022-10-30.csv', index_col = 0)"
   ]
  },
  {
   "cell_type": "code",
   "execution_count": 9,
   "metadata": {},
   "outputs": [],
   "source": [
    "df_origin = df_origin.iloc[df_origin.isnull().sum(1).sort_values(ascending=True).index]\n",
    "df_origin = df_origin.head(200000)"
   ]
  },
  {
   "cell_type": "code",
   "execution_count": 12,
   "metadata": {},
   "outputs": [
    {
     "data": {
      "text/plain": [
       "58"
      ]
     },
     "execution_count": 12,
     "metadata": {},
     "output_type": "execute_result"
    }
   ],
   "source": [
    "set([\"source_id\",\n",
    "\"adid\",\n",
    "\"is_mobile\",\n",
    "\"uber_division_w1\",\n",
    "\"uber_super_dept_w1\",\n",
    "\"uber_dept_w1\",\n",
    "\"uber_cat_w1\",\n",
    "\"uber_subcat_w1\",\n",
    "\"semcoop_clicks_w1\",\n",
    "\"semcoop_orders_seller_w1\",\n",
    "\"semcoop_orders_brand_w1\",\n",
    "\"semcoop_clicks_w2\",\n",
    "\"semcoop_orders_seller_w2\",\n",
    "\"semcoop_orders_brand_w2\",\n",
    "\"confidence\",\n",
    "\"pred_convrt_seller\",\n",
    "\"pred_ordersize_seller\",\n",
    "\"pred_rpc_seller\",\n",
    "\"pred_convrt_brand\",\n",
    "\"pred_ordersize_brand\",\n",
    "\"pred_rpc_brand\"])"
   ]
  },
  {
   "cell_type": "code",
   "execution_count": null,
   "metadata": {},
   "outputs": [],
   "source": []
  },
  {
   "cell_type": "code",
   "execution_count": null,
   "metadata": {},
   "outputs": [],
   "source": []
  },
  {
   "cell_type": "code",
   "execution_count": 9,
   "metadata": {},
   "outputs": [],
   "source": [
    "# set([i for i in df.columns if '_l' not in i and 'semcoop' not in i]) - set(features['convrt'])\n",
    "# set(features['convrt']) - set([i for i in df.columns if '_l' not in i and 'semcoop' not in i])"
   ]
  },
  {
   "cell_type": "code",
   "execution_count": 14,
   "metadata": {},
   "outputs": [
    {
     "name": "stderr",
     "output_type": "stream",
     "text": [
      "/opt/conda/anaconda/lib/python3.6/site-packages/ipykernel_launcher.py:3: SettingWithCopyWarning: \n",
      "A value is trying to be set on a copy of a slice from a DataFrame.\n",
      "Try using .loc[row_indexer,col_indexer] = value instead\n",
      "\n",
      "See the caveats in the documentation: http://pandas.pydata.org/pandas-docs/stable/user_guide/indexing.html#returning-a-view-versus-a-copy\n",
      "  This is separate from the ipykernel package so we can avoid doing imports until\n"
     ]
    }
   ],
   "source": [
    "df_coop = df_origin[[i for i in df_origin.columns if 'sem_' not in i  and 'v18' not in i and 'v12' not in i or 'bounce' in i or 'visit' in i]]\n",
    "for i in df_coop.columns:\n",
    "    df_coop[i] = df_coop[i].fillna(0)"
   ]
  },
  {
   "cell_type": "code",
   "execution_count": 5,
   "metadata": {},
   "outputs": [],
   "source": [
    "df_coop = df_origin"
   ]
  },
  {
   "cell_type": "code",
   "execution_count": null,
   "metadata": {},
   "outputs": [],
   "source": []
  },
  {
   "cell_type": "code",
   "execution_count": 11,
   "metadata": {},
   "outputs": [],
   "source": [
    "# config = load_json('config.json')\n",
    "# adid_name = config[\"hash_id\"][\"adid\"]\n",
    "# is_mobile_name = config[\"hash_id\"][\"is_mobile\"]\n",
    "# source_id_name = config[\"hash_id\"][\"source_id\"]\n",
    "# features = config[\"features\"]\n",
    "# output_features = config[\"output_features\"]\n",
    "# hash_id = config[\"hash_id\"]\n",
    "\n",
    "# trainschema = config['schema']['trainSchema']\n",
    "# testschema = config['schema']['testSchema']\n",
    "\n",
    "# sep_columns = ['orders', 'gmv_revenue_adjustment','margin','rpc','roas','convrt','ordersize','mpc','mpo']\n",
    "\n",
    "# new_trainschema = []\n",
    "# for i in ['seller_id'] + trainschema:\n",
    "#     if 'v12' not in i and 'v18' not in i:\n",
    "#         if i.startswith('sem_'):\n",
    "#             i = i.replace('sem','semcoop')\n",
    "#         if any('semcoop_'+ext in i for ext in sep_columns):\n",
    "#             out = ''\n",
    "#             for k in range(len(i.split('_'))):\n",
    "#                 if k!=len(i.split('_'))-1:\n",
    "#                     out=out+i.split('_')[k]+'_'\n",
    "#                 else:\n",
    "#                     new_trainschema.append(out+'brand_'+i.split('_')[k])\n",
    "#                     new_trainschema.append(out+'seller_'+i.split('_')[k])\n",
    "#         else:\n",
    "#             new_trainschema.append(i)\n",
    "\n",
    "# new_trainschema_set = set(new_trainschema) - set(set(new_trainschema) - set(df_coop.columns))\n",
    "# new_trainschema = list(new_trainschema_set)\n",
    "# new_trainschema.sort()\n",
    "# new_trainschema_seller = [i for i in new_trainschema if 'brand' not in i or i=='seller_id']\n",
    "# new_trainschema_brand = [i for i in new_trainschema if 'seller' not in i or i=='seller_id']\n",
    "\n",
    "\n",
    "# new_testschema = []\n",
    "# for i in ['seller_id'] + testschema:\n",
    "#     if 'v12' not in i and 'v18' not in i:\n",
    "#         if i.startswith('sem_'):\n",
    "#             i = i.replace('sem','semcoop')\n",
    "#         if any('semcoop_'+ext in i for ext in sep_columns):\n",
    "#             out = ''\n",
    "#             for k in range(len(i.split('_'))):\n",
    "#                 if k!=len(i.split('_'))-1:\n",
    "#                     out=out+i.split('_')[k]+'_'\n",
    "#                 else:\n",
    "#                     new_testschema.append(out+'brand_'+i.split('_')[k])\n",
    "#                     new_testschema.append(out+'seller_'+i.split('_')[k])\n",
    "#         else:\n",
    "#             new_testschema.append(i)\n",
    "\n",
    "# new_testschema_set = set(new_testschema) - set(set(new_testschema) - set(df_coop.columns))\n",
    "# new_testschema = list(new_testschema_set)\n",
    "# new_testschema.sort()\n",
    "# new_testschema_seller = [i for i in new_testschema if 'brand' not in i or i=='seller_id']\n",
    "# new_testschema_brand = [i for i in new_testschema if 'seller' not in i or i=='seller_id']\n",
    "\n",
    "\n",
    "# new_output_features = []\n",
    "# for i in output_features:\n",
    "#     if 'v12' not in i and 'v18' not in i:\n",
    "#         if i.startswith('sem_'):\n",
    "#             i = i.replace('sem','semcoop')\n",
    "#         if any('semcoop_'+ext in i for ext in sep_columns):\n",
    "#             out = ''\n",
    "#             for k in range(len(i.split('_'))):\n",
    "#                 if k!=len(i.split('_'))-1:\n",
    "#                     out=out+i.split('_')[k]+'_'\n",
    "#                 else:\n",
    "#                     new_output_features.append(out+'brand_'+i.split('_')[k])\n",
    "#                     new_output_features.append(out+'seller_'+i.split('_')[k])\n",
    "#         else:\n",
    "#             new_output_features.append(i)\n",
    "            \n",
    "# new_output_features_seller = [i for i in new_output_features if 'brand' not in i or i=='seller_id']\n",
    "# new_output_features_brand = [i for i in new_output_features if 'seller' not in i or i=='seller_id']\n",
    "\n",
    "# new_features = []\n",
    "# features = [i for i in features['convrt'] if 'item_name' not in i and 'item_short_desc' not in i]\n",
    "# for i in features:\n",
    "#     if 'v12' not in i and 'v18' not in i:\n",
    "#         if i.startswith('sem_'):\n",
    "#             i = i.replace('sem','semcoop')\n",
    "#         if any('semcoop_'+ext in i for ext in sep_columns):\n",
    "#             out = ''\n",
    "#             for k in range(len(i.split('_'))):\n",
    "#                 if k!=len(i.split('_'))-1:\n",
    "#                     out=out+i.split('_')[k]+'_'\n",
    "#                 else:\n",
    "#                     new_features.append(out+'brand_'+i.split('_')[k])\n",
    "#                     new_features.append(out+'seller_'+i.split('_')[k])\n",
    "#         else:\n",
    "#             new_features.append(i)\n",
    "            \n",
    "# new_features_seller = [i for i in new_features if 'brand' not in i or i=='seller_id']\n",
    "# new_features_brand = [i for i in new_features if 'seller' not in i or i=='seller_id']\n",
    "\n",
    "# new_config = {}\n",
    "# new_config['schema'] = {'trainSchema':{'brand':new_trainschema_brand, 'seller':new_trainschema_seller}, \\\n",
    "#                         'testSchema':{'brand':new_testschema_brand, 'seller':new_testschema_seller}}\n",
    "# new_config['features'] = {'convrt':{'brand':new_features_brand, 'seller':new_features_seller}, \\\n",
    "#                         'ordersize':{'brand':new_features_brand, 'seller':new_features_seller}}\n",
    "# new_config['output_features'] = {'brand':new_output_features_brand, 'seller':new_output_features_seller}\n",
    "# new_config['hash_id'] = hash_id\n",
    "# with open(\"yp_config.json\", \"w\") as outfile:\n",
    "#     json.dump(new_config, outfile)"
   ]
  },
  {
   "cell_type": "code",
   "execution_count": 60,
   "metadata": {},
   "outputs": [
    {
     "data": {
      "text/html": [
       "<div>\n",
       "<style scoped>\n",
       "    .dataframe tbody tr th:only-of-type {\n",
       "        vertical-align: middle;\n",
       "    }\n",
       "\n",
       "    .dataframe tbody tr th {\n",
       "        vertical-align: top;\n",
       "    }\n",
       "\n",
       "    .dataframe thead th {\n",
       "        text-align: right;\n",
       "    }\n",
       "</style>\n",
       "<table border=\"1\" class=\"dataframe\">\n",
       "  <thead>\n",
       "    <tr style=\"text-align: right;\">\n",
       "      <th></th>\n",
       "      <th>catalog_item_id</th>\n",
       "      <th>seller_id</th>\n",
       "      <th>adid</th>\n",
       "      <th>source_id</th>\n",
       "      <th>is_mobile</th>\n",
       "      <th>sem_impressions_l</th>\n",
       "      <th>sem_clicks_l</th>\n",
       "      <th>sem_adspend_l</th>\n",
       "      <th>sem_qty_l</th>\n",
       "      <th>sem_gmv_revenue_adjustment_brand_l</th>\n",
       "      <th>...</th>\n",
       "      <th>bc_sem_bounce_rate_w1</th>\n",
       "      <th>bc_sem_bounces_w1</th>\n",
       "      <th>bc_visits_w1</th>\n",
       "      <th>bc_sem_visits_w1</th>\n",
       "      <th>bc_bounce_rate_w2</th>\n",
       "      <th>bc_bounces_w2</th>\n",
       "      <th>bc_sem_bounce_rate_w2</th>\n",
       "      <th>bc_sem_bounces_w2</th>\n",
       "      <th>bc_visits_w2</th>\n",
       "      <th>bc_sem_visits_w2</th>\n",
       "    </tr>\n",
       "    <tr>\n",
       "      <th>Unnamed: 0</th>\n",
       "      <th></th>\n",
       "      <th></th>\n",
       "      <th></th>\n",
       "      <th></th>\n",
       "      <th></th>\n",
       "      <th></th>\n",
       "      <th></th>\n",
       "      <th></th>\n",
       "      <th></th>\n",
       "      <th></th>\n",
       "      <th></th>\n",
       "      <th></th>\n",
       "      <th></th>\n",
       "      <th></th>\n",
       "      <th></th>\n",
       "      <th></th>\n",
       "      <th></th>\n",
       "      <th></th>\n",
       "      <th></th>\n",
       "      <th></th>\n",
       "      <th></th>\n",
       "    </tr>\n",
       "  </thead>\n",
       "  <tbody>\n",
       "    <tr>\n",
       "      <th>0</th>\n",
       "      <td>1000438425</td>\n",
       "      <td>101197600</td>\n",
       "      <td>1000438425_141830104220_18285736203</td>\n",
       "      <td>2</td>\n",
       "      <td>0</td>\n",
       "      <td>NaN</td>\n",
       "      <td>NaN</td>\n",
       "      <td>NaN</td>\n",
       "      <td>NaN</td>\n",
       "      <td>NaN</td>\n",
       "      <td>...</td>\n",
       "      <td>0.680000</td>\n",
       "      <td>17.0</td>\n",
       "      <td>1285.0</td>\n",
       "      <td>25.0</td>\n",
       "      <td>0.720934</td>\n",
       "      <td>4291.0</td>\n",
       "      <td>0.75</td>\n",
       "      <td>45.0</td>\n",
       "      <td>5952.0</td>\n",
       "      <td>60.0</td>\n",
       "    </tr>\n",
       "    <tr>\n",
       "      <th>1</th>\n",
       "      <td>1000641068</td>\n",
       "      <td>101137322</td>\n",
       "      <td>1000641068_101137322_140940758340_18064667719</td>\n",
       "      <td>2</td>\n",
       "      <td>0</td>\n",
       "      <td>NaN</td>\n",
       "      <td>NaN</td>\n",
       "      <td>NaN</td>\n",
       "      <td>NaN</td>\n",
       "      <td>NaN</td>\n",
       "      <td>...</td>\n",
       "      <td>NaN</td>\n",
       "      <td>0.0</td>\n",
       "      <td>1.0</td>\n",
       "      <td>0.0</td>\n",
       "      <td>0.000000</td>\n",
       "      <td>0.0</td>\n",
       "      <td>NaN</td>\n",
       "      <td>0.0</td>\n",
       "      <td>2.0</td>\n",
       "      <td>0.0</td>\n",
       "    </tr>\n",
       "    <tr>\n",
       "      <th>2</th>\n",
       "      <td>1000956959</td>\n",
       "      <td>101126726</td>\n",
       "      <td>1000956959_144893864830_18291203882</td>\n",
       "      <td>2</td>\n",
       "      <td>1</td>\n",
       "      <td>NaN</td>\n",
       "      <td>NaN</td>\n",
       "      <td>NaN</td>\n",
       "      <td>NaN</td>\n",
       "      <td>NaN</td>\n",
       "      <td>...</td>\n",
       "      <td>NaN</td>\n",
       "      <td>0.0</td>\n",
       "      <td>51.0</td>\n",
       "      <td>0.0</td>\n",
       "      <td>0.231788</td>\n",
       "      <td>35.0</td>\n",
       "      <td>0.00</td>\n",
       "      <td>0.0</td>\n",
       "      <td>151.0</td>\n",
       "      <td>1.0</td>\n",
       "    </tr>\n",
       "    <tr>\n",
       "      <th>3</th>\n",
       "      <td>1001819367</td>\n",
       "      <td>0</td>\n",
       "      <td>1001819367_141412546465_18497457021</td>\n",
       "      <td>2</td>\n",
       "      <td>0</td>\n",
       "      <td>0.0</td>\n",
       "      <td>0.0</td>\n",
       "      <td>0.0</td>\n",
       "      <td>-0.142857</td>\n",
       "      <td>0.0</td>\n",
       "      <td>...</td>\n",
       "      <td>0.666667</td>\n",
       "      <td>2.0</td>\n",
       "      <td>162.0</td>\n",
       "      <td>3.0</td>\n",
       "      <td>0.339901</td>\n",
       "      <td>138.0</td>\n",
       "      <td>0.50</td>\n",
       "      <td>2.0</td>\n",
       "      <td>406.0</td>\n",
       "      <td>4.0</td>\n",
       "    </tr>\n",
       "    <tr>\n",
       "      <th>4</th>\n",
       "      <td>1001852866</td>\n",
       "      <td>101135396</td>\n",
       "      <td>1001852866_141989961998_18286110951</td>\n",
       "      <td>2</td>\n",
       "      <td>0</td>\n",
       "      <td>NaN</td>\n",
       "      <td>NaN</td>\n",
       "      <td>NaN</td>\n",
       "      <td>NaN</td>\n",
       "      <td>NaN</td>\n",
       "      <td>...</td>\n",
       "      <td>NaN</td>\n",
       "      <td>0.0</td>\n",
       "      <td>4.0</td>\n",
       "      <td>0.0</td>\n",
       "      <td>0.625000</td>\n",
       "      <td>5.0</td>\n",
       "      <td>NaN</td>\n",
       "      <td>0.0</td>\n",
       "      <td>8.0</td>\n",
       "      <td>0.0</td>\n",
       "    </tr>\n",
       "  </tbody>\n",
       "</table>\n",
       "<p>5 rows × 284 columns</p>\n",
       "</div>"
      ],
      "text/plain": [
       "            catalog_item_id  seller_id  \\\n",
       "Unnamed: 0                               \n",
       "0                1000438425  101197600   \n",
       "1                1000641068  101137322   \n",
       "2                1000956959  101126726   \n",
       "3                1001819367          0   \n",
       "4                1001852866  101135396   \n",
       "\n",
       "                                                     adid  source_id  \\\n",
       "Unnamed: 0                                                             \n",
       "0                     1000438425_141830104220_18285736203          2   \n",
       "1           1000641068_101137322_140940758340_18064667719          2   \n",
       "2                     1000956959_144893864830_18291203882          2   \n",
       "3                     1001819367_141412546465_18497457021          2   \n",
       "4                     1001852866_141989961998_18286110951          2   \n",
       "\n",
       "            is_mobile  sem_impressions_l  sem_clicks_l  sem_adspend_l  \\\n",
       "Unnamed: 0                                                              \n",
       "0                   0                NaN           NaN            NaN   \n",
       "1                   0                NaN           NaN            NaN   \n",
       "2                   1                NaN           NaN            NaN   \n",
       "3                   0                0.0           0.0            0.0   \n",
       "4                   0                NaN           NaN            NaN   \n",
       "\n",
       "            sem_qty_l  sem_gmv_revenue_adjustment_brand_l  ...  \\\n",
       "Unnamed: 0                                                 ...   \n",
       "0                 NaN                                 NaN  ...   \n",
       "1                 NaN                                 NaN  ...   \n",
       "2                 NaN                                 NaN  ...   \n",
       "3           -0.142857                                 0.0  ...   \n",
       "4                 NaN                                 NaN  ...   \n",
       "\n",
       "            bc_sem_bounce_rate_w1  bc_sem_bounces_w1  bc_visits_w1  \\\n",
       "Unnamed: 0                                                           \n",
       "0                        0.680000               17.0        1285.0   \n",
       "1                             NaN                0.0           1.0   \n",
       "2                             NaN                0.0          51.0   \n",
       "3                        0.666667                2.0         162.0   \n",
       "4                             NaN                0.0           4.0   \n",
       "\n",
       "            bc_sem_visits_w1  bc_bounce_rate_w2  bc_bounces_w2  \\\n",
       "Unnamed: 0                                                       \n",
       "0                       25.0           0.720934         4291.0   \n",
       "1                        0.0           0.000000            0.0   \n",
       "2                        0.0           0.231788           35.0   \n",
       "3                        3.0           0.339901          138.0   \n",
       "4                        0.0           0.625000            5.0   \n",
       "\n",
       "            bc_sem_bounce_rate_w2  bc_sem_bounces_w2  bc_visits_w2  \\\n",
       "Unnamed: 0                                                           \n",
       "0                            0.75               45.0        5952.0   \n",
       "1                             NaN                0.0           2.0   \n",
       "2                            0.00                0.0         151.0   \n",
       "3                            0.50                2.0         406.0   \n",
       "4                             NaN                0.0           8.0   \n",
       "\n",
       "            bc_sem_visits_w2  \n",
       "Unnamed: 0                    \n",
       "0                       60.0  \n",
       "1                        0.0  \n",
       "2                        1.0  \n",
       "3                        4.0  \n",
       "4                        0.0  \n",
       "\n",
       "[5 rows x 284 columns]"
      ]
     },
     "execution_count": 60,
     "metadata": {},
     "output_type": "execute_result"
    }
   ],
   "source": [
    "df_coop.head()"
   ]
  },
  {
   "cell_type": "code",
   "execution_count": 58,
   "metadata": {},
   "outputs": [],
   "source": [
    "config = load_json('yp_config_new.json')\n",
    "adid_name = config[\"hash_id\"][\"adid\"]\n",
    "is_mobile_name = config[\"hash_id\"][\"is_mobile\"]\n",
    "source_id_name = config[\"hash_id\"][\"source_id\"]\n",
    "features = config[\"features\"]\n",
    "output_features = config[\"output_features\"]\n",
    "hash_id = config[\"hash_id\"]"
   ]
  },
  {
   "cell_type": "code",
   "execution_count": 61,
   "metadata": {},
   "outputs": [],
   "source": [
    "config['output_features']['brand'] = ['catalog_item_id', 'seller_id']+config['output_features']['brand']"
   ]
  },
  {
   "cell_type": "code",
   "execution_count": 62,
   "metadata": {},
   "outputs": [],
   "source": [
    "config['output_features']['seller'] = ['catalog_item_id', 'seller_id']+config['output_features']['seller']"
   ]
  },
  {
   "cell_type": "code",
   "execution_count": 63,
   "metadata": {},
   "outputs": [],
   "source": [
    "with open(\"yp_config_new.json\", \"w\") as outfile:\n",
    "    json.dump(config, outfile)"
   ]
  },
  {
   "cell_type": "code",
   "execution_count": 12,
   "metadata": {},
   "outputs": [],
   "source": [
    "# aa = pd.DataFrame(df_coop.isnull().sum())/len(df)\n",
    "# aa.sort_values(0,ascending=False)"
   ]
  },
  {
   "cell_type": "code",
   "execution_count": 15,
   "metadata": {},
   "outputs": [],
   "source": [
    "def train(df_trn, df_val, feature_cols, target_col, lgb_params, args, model_name, weight_col=None):\n",
    "    # build dataset\n",
    "    if weight_col:\n",
    "        dtrain = lgb.Dataset(df_trn[feature_cols],\n",
    "                             df_trn[target_col].values,\n",
    "                             weight=df_trn[weight_col].values,\n",
    "                             free_raw_data=False,\n",
    "                             silent=False,\n",
    "                             )\n",
    "        dvalid = lgb.Dataset(df_val[feature_cols],\n",
    "                             df_val[target_col].values,\n",
    "                             weight=df_val[weight_col].values,\n",
    "                             free_raw_data=False,\n",
    "                             silent=False,\n",
    "                             )\n",
    "    else:\n",
    "        dtrain = lgb.Dataset(df_trn[feature_cols],\n",
    "                             df_trn[target_col].values,\n",
    "                             free_raw_data=False,\n",
    "                             silent=False,\n",
    "                             )\n",
    "        dvalid = lgb.Dataset(df_val[feature_cols],\n",
    "                             df_val[target_col].values,\n",
    "                             free_raw_data=False,\n",
    "                             silent=False,\n",
    "                             )\n",
    "    # train model\n",
    "    model = lgb.train(lgb_params,\n",
    "                      dtrain,\n",
    "                      valid_sets=[dtrain, dvalid],\n",
    "                      verbose_eval=100)\n",
    "\n",
    "    # save model to local path\n",
    "    # changfu\n",
    "    #local_file = f'{args.local_path}/{model_name}.txt'\n",
    "    local_file = f'{args.train_output_path}/{model_name}.txt'\n",
    "    model.save_model(local_file, num_iteration=model.best_iteration)\n",
    "\n",
    "    # upload model to gcp\n",
    "    # edits changfu\n",
    "    # gcp_file = f'{args.train_output_path}{model_name}.txt'\n",
    "    # upload_local_to_cloud_storage(local_file, gcp_file)"
   ]
  },
  {
   "cell_type": "code",
   "execution_count": 16,
   "metadata": {},
   "outputs": [],
   "source": [
    "def eval(df, feature_cols, target_col, args, model_name, weight_col=None):\n",
    "    try:\n",
    "        # changfu\n",
    "        # model = lgb.Booster(model_file=(f'{args.local_path}/{model_name}.txt'))\n",
    "        model = lgb.Booster(model_file=(f'{args.train_output_path}/{model_name}.txt'))\n",
    "    except:\n",
    "        raise RuntimeError(f'{model_name} does not exist...')\n",
    "\n",
    "    y_pred = model.predict(df[feature_cols])\n",
    "    if weight_col:\n",
    "        WRMSE = wrmse(df[target_col].values, y_pred, df[weight_col].values)\n",
    "        WMAE = wmae(df[target_col].values, y_pred, df[weight_col].values)\n",
    "    else:\n",
    "        raise RuntimeError('No weight column. ')\n",
    "    logging.info(f'WRMSE: {WRMSE: .5f}')\n",
    "    logging.info(f'WMAE: {WMAE: .5f}')\n",
    "    return y_pred"
   ]
  },
  {
   "cell_type": "code",
   "execution_count": 17,
   "metadata": {},
   "outputs": [],
   "source": [
    "def wrmse(y, y_pred, weights):\n",
    "    error = np.power(y - y_pred, 2)*weights\n",
    "    return np.sqrt(np.sum(error)/np.sum(weights))\n",
    "\n",
    "def wmae(y, y_pred, weights):\n",
    "    error = np.abs(y - y_pred)*weights\n",
    "    return np.sum(error)/np.sum(weights)"
   ]
  },
  {
   "cell_type": "code",
   "execution_count": 18,
   "metadata": {},
   "outputs": [],
   "source": [
    "lgb_params = {\n",
    "    'n_estimators': 4000,\n",
    "    'metric': 'rmse',\n",
    "    'learning_rate': 0.02,\n",
    "    'objective': 'regression',\n",
    "    'boosting_type': 'gbdt',\n",
    "    'subsample': 0.9,\n",
    "    'bagging_freq': 10,\n",
    "    'colsample_bytree': 0.33,\n",
    "    'verbose': -1,\n",
    "    'num_leaves': 63,\n",
    "    'max_depth': 10,\n",
    "    'seed': 42,\n",
    "    'n_jobs': -1,\n",
    "    'early_stopping_rounds': 200,\n",
    "}"
   ]
  },
  {
   "cell_type": "code",
   "execution_count": 19,
   "metadata": {},
   "outputs": [
    {
     "name": "stderr",
     "output_type": "stream",
     "text": [
      "/home/mds_backfill/rpc_feature_extraction/rpc_model/utils/utils.py:58: SettingWithCopyWarning: \n",
      "A value is trying to be set on a copy of a slice from a DataFrame.\n",
      "Try using .loc[row_indexer,col_indexer] = value instead\n",
      "\n",
      "See the caveats in the documentation: http://pandas.pydata.org/pandas-docs/stable/user_guide/indexing.html#returning-a-view-versus-a-copy\n",
      "  df[feat] = df[feat].apply(lambda x: pd.to_numeric(x, errors='coerce'))\n"
     ]
    }
   ],
   "source": [
    "config = load_json('yp_config.json')\n",
    "adid_name = config[\"hash_id\"][\"adid\"]\n",
    "is_mobile_name = config[\"hash_id\"][\"is_mobile\"]\n",
    "source_id_name = config[\"hash_id\"][\"source_id\"]\n",
    "# prepare train features\n",
    "features = config[\"features\"]\n",
    "# clean features (all should be numerics)\n",
    "features_set = ['uber_curr_item_price_w1', 'uber_avg_overall_rating_w1'] #hard coded for hot fix\n",
    "df_coop = convert_numeric(df_coop, features_set)"
   ]
  },
  {
   "cell_type": "code",
   "execution_count": 20,
   "metadata": {},
   "outputs": [],
   "source": [
    "df = df_coop.copy()\n",
    "del df_coop"
   ]
  },
  {
   "cell_type": "code",
   "execution_count": null,
   "metadata": {},
   "outputs": [],
   "source": []
  },
  {
   "cell_type": "code",
   "execution_count": null,
   "metadata": {},
   "outputs": [],
   "source": []
  },
  {
   "cell_type": "code",
   "execution_count": 19,
   "metadata": {},
   "outputs": [
    {
     "name": "stderr",
     "output_type": "stream",
     "text": [
      "/opt/conda/anaconda/lib/python3.6/site-packages/pandas/core/indexing.py:205: SettingWithCopyWarning: \n",
      "A value is trying to be set on a copy of a slice from a DataFrame\n",
      "\n",
      "See the caveats in the documentation: http://pandas.pydata.org/pandas-docs/stable/user_guide/indexing.html#returning-a-view-versus-a-copy\n",
      "  self._setitem_with_indexer(indexer, value)\n"
     ]
    }
   ],
   "source": [
    "# do train-val split\n",
    "df['fold'] = 0\n",
    "kf = KFold(5, shuffle=True, random_state=42)\n",
    "for i, (_, val_idx) in enumerate(kf.split(df)):\n",
    "    df['fold'].iloc[val_idx] = i"
   ]
  },
  {
   "cell_type": "code",
   "execution_count": 20,
   "metadata": {},
   "outputs": [],
   "source": [
    "# filters, need to change in the future\n",
    "convrt_trn_filter = (df[source_id_name]==2) & (df.semcoop_convrt_brand_l>=0) & (df.semcoop_convrt_brand_l<=0.3)\n",
    "convrt_val_filter = (df[source_id_name]==2) & (df.semcoop_convrt_brand_l>=0) & (df.semcoop_convrt_brand_l<=0.3)\n",
    "ordersize_trn_filter = (df[source_id_name]==2) & (df.semcoop_ordersize_brand_l>=0) & (df.semcoop_ordersize_brand_l<=500)\n",
    "ordersize_val_filter = (df[source_id_name]==2) & (df.semcoop_ordersize_brand_l>=0) & (df.semcoop_ordersize_brand_l<=500)"
   ]
  },
  {
   "cell_type": "code",
   "execution_count": 21,
   "metadata": {},
   "outputs": [],
   "source": [
    "# do train & eval\n",
    "# prepare dataframe to store OOF results\n",
    "df_eval = df.copy()\n",
    "if args.model_type == 'all':\n",
    "    df_eval['pred_convrt'] = np.nan\n",
    "    df_eval['pred_ordersize'] = np.nan\n",
    "    df_eval['pred_rpc'] = np.nan\n",
    "elif args.model_type == 'convrt':\n",
    "    df_eval['pred_convrt'] = np.nan\n",
    "elif args.model_type == 'ordersize':\n",
    "    df_eval['pred_ordersize'] = np.nan"
   ]
  },
  {
   "cell_type": "code",
   "execution_count": 22,
   "metadata": {},
   "outputs": [
    {
     "name": "stderr",
     "output_type": "stream",
     "text": [
      "/home/mds_backfill/.local/lib/python3.6/site-packages/lightgbm/engine.py:177: UserWarning: Found `n_estimators` in params. Will use it instead of argument\n",
      "  _log_warning(f\"Found `{alias}` in params. Will use it instead of argument\")\n",
      "/home/mds_backfill/.local/lib/python3.6/site-packages/lightgbm/engine.py:239: UserWarning: 'verbose_eval' argument is deprecated and will be removed in a future release of LightGBM. Pass 'log_evaluation()' callback via 'callbacks' argument instead.\n",
      "  _log_warning(\"'verbose_eval' argument is deprecated and will be removed in a future release of LightGBM. \"\n",
      "/home/mds_backfill/.local/lib/python3.6/site-packages/lightgbm/basic.py:1491: UserWarning: 'silent' argument is deprecated and will be removed in a future release of LightGBM. Pass 'verbose' parameter via 'params' instead.\n",
      "  _log_warning(\"'silent' argument is deprecated and will be removed in a future release of LightGBM. \"\n"
     ]
    }
   ],
   "source": [
    "for fold in range(5):\n",
    "    if args.model_type in ['convrt', 'all']:\n",
    "        # convrt model\n",
    "        logging.info('-'*20)\n",
    "        logging.info(f'Train convrt model fold-{fold}...')\n",
    "        model_features = features['convrt']['brand']\n",
    "        target_col = \"semcoop_convrt_brand_l\"\n",
    "        model_name = f'convrt_f{fold}'\n",
    "        trn_mask = convrt_trn_filter & (df.fold != fold)\n",
    "        df_trn = df[trn_mask]\n",
    "        val_mask = convrt_val_filter & (df.fold == fold)\n",
    "        df_val = df[val_mask]\n",
    "        train(df_trn, df_val, model_features, target_col, lgb_params, args, model_name, weight_col='semcoop_clicks_l')\n",
    "        \n",
    "        \n",
    "        # Evaluate\n",
    "        logging.info(f'Eval fold-{fold} results...')\n",
    "        y_pred = eval(df_val, model_features, target_col, args, model_name, weight_col='semcoop_clicks_l')\n",
    "        df_eval['pred_convrt'].loc[val_mask] = y_pred\n",
    "\n",
    "    if args.model_type in ['ordersize', 'all']:\n",
    "        # order_size model\n",
    "        logging.info('-'*20)\n",
    "        logging.info(f'Train ordersize model fold-{fold}...')\n",
    "        model_features = features['ordersize']['brand']\n",
    "        target_col = \"semcoop_ordersize_brand_l\"\n",
    "        model_name = f'ordersize_f{fold}'\n",
    "        trn_mask = ordersize_trn_filter & (df.fold != fold)\n",
    "        df_trn = df[trn_mask]\n",
    "        val_mask = ordersize_val_filter & (df.fold == fold)\n",
    "        df_val = df[val_mask]\n",
    "        train(df_trn, df_val, model_features, target_col, lgb_params, args, model_name, weight_col='semcoop_orders_brand_l')\n",
    "\n",
    "        # Evaluate\n",
    "        logging.info(f'Evaluate fold-{fold} results...')\n",
    "        y_pred = eval(df_val, model_features, target_col, args, model_name, weight_col='semcoop_orders_brand_l')\n",
    "        df_eval['pred_ordersize'].loc[val_mask] = y_pred\n",
    "\n",
    "    if args.mode == \"train\":\n",
    "        break"
   ]
  },
  {
   "cell_type": "code",
   "execution_count": 24,
   "metadata": {},
   "outputs": [],
   "source": [
    "# report and store oof results\n",
    "logging.info('Evaluate out of fold results')\n",
    "\n",
    "df_eval['pred_rpc'] = df_eval['pred_convrt'] * df_eval['pred_ordersize']\n",
    "if args.model_type == 'all':\n",
    "    target_cols = ['semcoop_convrt_brand_l', 'semcoop_ordersize_brand_l', 'semcoop_rpc_brand_l']\n",
    "    pred_cols = ['pred_convrt', 'pred_ordersize', 'pred_rpc']\n",
    "    weight_cols = ['semcoop_clicks_l', 'semcoop_orders_brand_l', 'semcoop_clicks_l']\n",
    "    use_cols = target_cols + pred_cols + weight_cols\n",
    "    for target_col, pred_col, weight_col in zip(target_cols, pred_cols, weight_cols):\n",
    "        filter_NoNA = df_eval[target_col].notnull() & df_eval[pred_col].notnull() & df_eval[weight_col].notnull()\n",
    "        WRMSE = wrmse(df_eval[target_col].loc[filter_NoNA].values, df_eval[pred_col].loc[filter_NoNA].values, df_eval[weight_col].loc[filter_NoNA].values)\n",
    "        WMAE = wmae(df_eval[target_col].loc[filter_NoNA].values, df_eval[pred_col].loc[filter_NoNA].values, df_eval[weight_col].loc[filter_NoNA].values)\n",
    "        logging.info(f\"{target_col.split('_')[1]} oof WRMSE: {WRMSE: .5f}\")\n",
    "        logging.info(f\"{target_col.split('_')[1]} oof WMAE: {WMAE: .5f}\")\n",
    "elif args.model_type == 'convrt':\n",
    "    target_col, pred_col, weight_col = 'semcoop_convrt_brand_l', 'pred_convrt', 'semcoop_clicks_l'\n",
    "    use_cols = [target_col, pred_col, weight_col]\n",
    "    filter_NoNA = df_eval[target_col].notnull() & df_eval[pred_col].notnull() & df_eval[weight_col].notnull()\n",
    "    WRMSE = wrmse(df_eval[target_col].loc[filter_NoNA].values, df_eval[pred_col].loc[filter_NoNA].values, df_eval[weight_col].loc[filter_NoNA].values)\n",
    "    WMAE = wmae(df_eval[target_col].loc[filter_NoNA].values, df_eval[pred_col].loc[filter_NoNA].values, df_eval[weight_col].loc[filter_NoNA].values)\n",
    "    logging.info(f\"{target_col.split('_')[1]} oof WRMSE: {WRMSE: .5f}\")\n",
    "    logging.info(f\"{target_col.split('_')[1]} oof WMAE: {WMAE: .5f}\")     \n",
    "elif args.model_type == 'ordersize':\n",
    "    target_col, pred_col, weight_col = 'semcoop_ordersize_brand_l', 'pred_ordersize', 'semcoop_orders_brand_l'\n",
    "    use_cols = [target_col, pred_col, weight_col]\n",
    "    filter_NoNA = df_eval[target_col].notnull() & df_eval[pred_col].notnull() & df_eval[weight_col].notnull()\n",
    "    WRMSE = wrmse(df_eval[target_col].loc[filter_NoNA].values, df_eval[pred_col].loc[filter_NoNA].values, df_eval[weight_col].loc[filter_NoNA].values)\n",
    "    WMAE = wmae(df_eval[target_col].loc[filter_NoNA].values, df_eval[pred_col].loc[filter_NoNA].values, df_eval[weight_col].loc[filter_NoNA].values)\n",
    "    logging.info(f\"{target_col.split('_')[1]} oof WRMSE: {WRMSE: .5f}\")\n",
    "    logging.info(f\"{target_col.split('_')[1]} oof WMAE: {WMAE: .5f}\")   "
   ]
  },
  {
   "cell_type": "code",
   "execution_count": 25,
   "metadata": {},
   "outputs": [],
   "source": [
    "\n",
    "#local_file = f'{args.local_path}/oof_evaluation.csv'\n",
    "local_file = f'{args.train_output_path}/oof_evaluation.csv'\n",
    "#gcp_file = f'{args.train_output_path}oof_evaluation.csv'\n",
    "use_cols = list(set(use_cols))\n",
    "df_eval[use_cols].to_csv(local_file, index=None)\n",
    "#upload_local_to_cloud_storage(local_file, gcp_file)"
   ]
  },
  {
   "cell_type": "code",
   "execution_count": null,
   "metadata": {},
   "outputs": [],
   "source": []
  },
  {
   "cell_type": "code",
   "execution_count": null,
   "metadata": {},
   "outputs": [],
   "source": []
  },
  {
   "cell_type": "code",
   "execution_count": null,
   "metadata": {},
   "outputs": [],
   "source": []
  },
  {
   "cell_type": "code",
   "execution_count": null,
   "metadata": {},
   "outputs": [],
   "source": []
  },
  {
   "cell_type": "code",
   "execution_count": null,
   "metadata": {},
   "outputs": [],
   "source": []
  },
  {
   "cell_type": "code",
   "execution_count": null,
   "metadata": {},
   "outputs": [],
   "source": []
  },
  {
   "cell_type": "code",
   "execution_count": null,
   "metadata": {},
   "outputs": [],
   "source": []
  },
  {
   "cell_type": "code",
   "execution_count": null,
   "metadata": {},
   "outputs": [],
   "source": []
  }
 ],
 "metadata": {
  "kernelspec": {
   "display_name": "Python 3",
   "language": "python",
   "name": "python3"
  },
  "language_info": {
   "codemirror_mode": {
    "name": "ipython",
    "version": 3
   },
   "file_extension": ".py",
   "mimetype": "text/x-python",
   "name": "python",
   "nbconvert_exporter": "python",
   "pygments_lexer": "ipython3",
   "version": "3.6.13"
  }
 },
 "nbformat": 4,
 "nbformat_minor": 2
}
